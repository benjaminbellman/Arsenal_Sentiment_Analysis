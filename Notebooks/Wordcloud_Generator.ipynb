{
 "cells": [
  {
   "cell_type": "markdown",
   "id": "fb0bbeca-02cc-414c-bb5b-0ab019ee6c86",
   "metadata": {},
   "source": [
    "## WordCloud Generator\n",
    "- Generates a Wordcloud of words in tweets."
   ]
  },
  {
   "cell_type": "code",
   "execution_count": 1,
   "id": "dc1322be-bbcc-49dd-a5e4-f5a8616a07e8",
   "metadata": {},
   "outputs": [],
   "source": [
    "## Import Packages\n",
    "import pandas as pd\n",
    "from wordcloud import WordCloud, STOPWORDS"
   ]
  },
  {
   "cell_type": "code",
   "execution_count": 2,
   "id": "c5ee6ab9-c76a-4088-b2c6-ba13cb561b9d",
   "metadata": {},
   "outputs": [],
   "source": [
    "## Load DataFrame \n",
    "df = pd.read_csv(r'.\\..\\Data\\Finalized_DataFrame_All_Data.csv')\n",
    "\n",
    "## Define Stopwords. \n",
    "stop_w =set(STOPWORDS)\n",
    "stop_w = stop_w.update('Arsenal','Tottenham',' Arsenal ', \n",
    "                       ' Arsenal','Arsenal ','arsenal',\n",
    "                       'spurs','tottenham','will','que','s')"
   ]
  },
  {
   "cell_type": "code",
   "execution_count": 3,
   "id": "6a2ba9d0-98d9-4b04-ac7a-4694cb65cf19",
   "metadata": {
    "scrolled": true,
    "tags": []
   },
   "outputs": [],
   "source": [
    "## Collect all the tweets in our dataframe and store it into a list.\n",
    "tweets = []\n",
    "for i in df['Tweet']:\n",
    "    tweets.append(i)\n",
    "\n",
    "## For each tweet, extract each word and put it into all_words. Remove https links and user mentions.\n",
    "all_words = []\n",
    "for tweet in tweets:\n",
    "    for word in tweet.split(' '):\n",
    "        if word.startswith('https://'):\n",
    "            word = \" \"\n",
    "        if word.startswith('@'):\n",
    "            word = \" \"\n",
    "        if word.startswith('Arse') or word.startswith('arse'):   ##Uncomment to remove all Arsenal mentions.\n",
    "            word = \" \"\n",
    "        if word.startswith('Tott') or word.startswith('totten'): ##Uncomment to remove all Tottenham mentions.  \n",
    "            word = \" \"\n",
    "        if len(word) <= 3:\n",
    "            word = \" \" \n",
    "        all_words.append(word)\n",
    "\n",
    "## Get the first one million words and create a wordcloud.  \n",
    "list_of_words = \" \"\n",
    "for i in all_words[0:2000000]: \n",
    "    list_of_words += (i+ \" \" )\n",
    "word_cloud = WordCloud(stopwords = stop_w).generate(list_of_words)\n",
    "img = word_cloud.to_image()\n",
    "img.show()"
   ]
  },
  {
   "cell_type": "code",
   "execution_count": 4,
   "id": "70ec760c-4a8a-4a59-8060-351bb5b9871c",
   "metadata": {},
   "outputs": [],
   "source": [
    "import nltk\n",
    "from nltk.tokenize import sent_tokenize, word_tokenize\n",
    "from nltk.corpus import stopwords\n",
    "from nltk.stem.snowball import SnowballStemmer"
   ]
  },
  {
   "cell_type": "code",
   "execution_count": null,
   "id": "92d2114f-9bb7-43c1-9343-8ebbe3e1d904",
   "metadata": {},
   "outputs": [],
   "source": []
  }
 ],
 "metadata": {
  "kernelspec": {
   "display_name": "py37",
   "language": "python",
   "name": "py37"
  },
  "language_info": {
   "codemirror_mode": {
    "name": "ipython",
    "version": 3
   },
   "file_extension": ".py",
   "mimetype": "text/x-python",
   "name": "python",
   "nbconvert_exporter": "python",
   "pygments_lexer": "ipython3",
   "version": "3.7.0"
  }
 },
 "nbformat": 4,
 "nbformat_minor": 5
}
