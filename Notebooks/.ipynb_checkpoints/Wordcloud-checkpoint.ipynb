{
 "cells": [
  {
   "cell_type": "markdown",
   "id": "fb0bbeca-02cc-414c-bb5b-0ab019ee6c86",
   "metadata": {},
   "source": [
    "## WordCloud"
   ]
  },
  {
   "cell_type": "code",
   "execution_count": 1,
   "id": "dc1322be-bbcc-49dd-a5e4-f5a8616a07e8",
   "metadata": {},
   "outputs": [],
   "source": [
    "import pandas as pd\n",
    "from wordcloud import WordCloud, STOPWORDS"
   ]
  },
  {
   "cell_type": "code",
   "execution_count": 2,
   "id": "c5ee6ab9-c76a-4088-b2c6-ba13cb561b9d",
   "metadata": {},
   "outputs": [],
   "source": [
    "stop_w =set(STOPWORDS)\n",
    "df = pd.read_csv(r'.\\..\\Data\\Finalized_DataFrame.csv')\n",
    "stop_w.update('Arsenal','Tottenham',' Arsenal ', \n",
    "              ' Arsenal','Arsenal ')"
   ]
  },
  {
   "cell_type": "code",
   "execution_count": 3,
   "id": "9077d647-04ce-47e1-b702-022241383cd5",
   "metadata": {},
   "outputs": [],
   "source": [
    "tweets = []\n",
    "for i in df['Tweet']:\n",
    "    tweets.append(i)\n",
    "    \n",
    "#words = str(words)"
   ]
  },
  {
   "cell_type": "code",
   "execution_count": 4,
   "id": "8094e6a8-f896-411b-9b41-d7a1eecbed85",
   "metadata": {},
   "outputs": [
    {
     "data": {
      "text/plain": [
       "'Gabsus solusi masalah striker Arsenal kah?? https://t.co/x7KYqk0pYJ'"
      ]
     },
     "execution_count": 4,
     "metadata": {},
     "output_type": "execute_result"
    }
   ],
   "source": [
    "tweets[1]"
   ]
  },
  {
   "cell_type": "code",
   "execution_count": 5,
   "id": "98cb9482-efb0-4ce9-a921-b2ac5de02b32",
   "metadata": {},
   "outputs": [
    {
     "name": "stdout",
     "output_type": "stream",
     "text": [
      "Gabsus\n",
      "solusi\n",
      "masalah\n",
      "striker\n",
      "Arsenal\n",
      "kah??\n",
      " \n"
     ]
    }
   ],
   "source": [
    "for word in tweets[1].split(' '):\n",
    "    if word.startswith('https://'):\n",
    "        word = \" \"\n",
    "    print(word)"
   ]
  },
  {
   "cell_type": "code",
   "execution_count": 6,
   "id": "45776195-272b-41b6-ac29-4a11535569d6",
   "metadata": {},
   "outputs": [],
   "source": [
    "all_words = []\n",
    "substring = \"https://\"\n",
    "for tweet in tweets:\n",
    "    for word in tweet.split(' '):\n",
    "        if word.startswith('https://'):\n",
    "            word = \" \"\n",
    "        if word.startswith('@'):\n",
    "            word = \" \"\n",
    "        all_words.append(word)\n",
    "\n",
    "all_words = str(all_words)"
   ]
  },
  {
   "cell_type": "code",
   "execution_count": 7,
   "id": "70ec760c-4a8a-4a59-8060-351bb5b9871c",
   "metadata": {},
   "outputs": [],
   "source": [
    "word_cloud = WordCloud(stopwords = stop_w).generate(all_words)\n",
    "img = word_cloud.to_image()\n",
    "img.show()"
   ]
  },
  {
   "cell_type": "code",
   "execution_count": null,
   "id": "cb28a86d-7316-403e-9441-eef6ed7f44d3",
   "metadata": {},
   "outputs": [],
   "source": []
  }
 ],
 "metadata": {
  "kernelspec": {
   "display_name": "py37",
   "language": "python",
   "name": "py37"
  },
  "language_info": {
   "codemirror_mode": {
    "name": "ipython",
    "version": 3
   },
   "file_extension": ".py",
   "mimetype": "text/x-python",
   "name": "python",
   "nbconvert_exporter": "python",
   "pygments_lexer": "ipython3",
   "version": "3.7.0"
  }
 },
 "nbformat": 4,
 "nbformat_minor": 5
}
