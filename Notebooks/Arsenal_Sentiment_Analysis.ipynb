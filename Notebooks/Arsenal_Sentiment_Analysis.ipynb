{
 "cells": [
  {
   "cell_type": "markdown",
   "id": "bbd820bb-bd57-42af-ae93-13dde5fab4b1",
   "metadata": {
    "tags": []
   },
   "source": [
    "# Arsenal Social Sentiment Analysis\n",
    "## Forecasting User Sentiment between games. \n",
    "by *Ben N. Bellman* \n",
    "<br> Prepared as Springboard Capstone Project\n",
    "<br> *4/13/2022*"
   ]
  },
  {
   "cell_type": "markdown",
   "id": "c3c63a86-5a57-4ab8-8644-37b4e080fa86",
   "metadata": {},
   "source": [
    "<img src=\"../images/who-s-denilo-SuBb_SiEEM8-unsplash.jpg\" style=\"width:800px;height:400px\"/>"
   ]
  },
  {
   "cell_type": "markdown",
   "id": "104a1bea-cfc8-4099-a97f-75194a024454",
   "metadata": {
    "jp-MarkdownHeadingCollapsed": true,
    "tags": []
   },
   "source": [
    "### WARNING: \n",
    "*Although the usernames have been anonymized as to protect the privacy of the users in this analysis, the tweets are still in raw format and may contain inappropriate / sensitive content. Viewer discretion is advised*"
   ]
  },
  {
   "cell_type": "markdown",
   "id": "ba05f0e7-b9b6-48d6-9b2c-ccaf8ff1f06b",
   "metadata": {},
   "source": [
    "## Outline"
   ]
  },
  {
   "cell_type": "markdown",
   "id": "180bbd65-d224-4aa4-8e2e-d618ec42d938",
   "metadata": {},
   "source": [
    "## Data Mapping: "
   ]
  },
  {
   "cell_type": "markdown",
   "id": "ad9ae830-cad4-4b70-9e47-6f5ab1c9a406",
   "metadata": {},
   "source": [
    "One of the important things to know for the analysis is the schedule of the games.\n",
    "The objective in the social sentiment analysis is to predict whether or not a specific tweet is likely to come  "
   ]
  },
  {
   "cell_type": "code",
   "execution_count": 1,
   "id": "1b5a3a8d-c3e4-4748-ab6f-13cf7cf51120",
   "metadata": {},
   "outputs": [
    {
     "name": "stdout",
     "output_type": "stream",
     "text": [
      "Last updated: 2022-05-12T08:37:52.003180-07:00\n",
      "\n",
      "Python implementation: CPython\n",
      "Python version       : 3.9.12\n",
      "IPython version      : 8.0.1\n",
      "\n",
      "Compiler    : MSC v.1929 64 bit (AMD64)\n",
      "OS          : Windows\n",
      "Release     : 10\n",
      "Machine     : AMD64\n",
      "Processor   : Intel64 Family 6 Model 142 Stepping 12, GenuineIntel\n",
      "CPU cores   : 8\n",
      "Architecture: 64bit\n",
      "\n"
     ]
    }
   ],
   "source": [
    "%load_ext watermark\n",
    "%watermark "
   ]
  },
  {
   "cell_type": "code",
   "execution_count": 2,
   "id": "ba8542c1-eb51-44c0-91c2-05fbb1cd627c",
   "metadata": {},
   "outputs": [],
   "source": [
    "## We start by importing the packages we will use.\n",
    "\n",
    "import pandas as pd\n",
    "import numpy as np\n",
    "import matplotlib.pyplot as plt\n",
    "import seaborn as sns\n",
    "\n",
    "import statsmodels.api as sm\n",
    "from statsmodels.graphics.api import abline_plot \n",
    "\n",
    "from sklearn.preprocessing import StandardScaler, LabelEncoder\n",
    "from sklearn.model_selection import train_test_split, GridSearchCV, RandomizedSearchCV\n",
    "from imblearn.under_sampling import RandomUnderSampler\n",
    "\n",
    "from sklearn.linear_model import LinearRegression, LogisticRegression, SGDClassifier\n",
    "from sklearn.neighbors import KNeighborsClassifier\n",
    "from sklearn.naive_bayes import GaussianNB\n",
    "from sklearn.svm import SVC\n",
    "from sklearn.tree import DecisionTreeRegressor, DecisionTreeClassifier, plot_tree, export_graphviz\n",
    "from sklearn.ensemble import RandomForestClassifier,RandomForestRegressor, GradientBoostingClassifier, AdaBoostClassifier\n",
    "import xgboost as xgb \n",
    "\n",
    "from sklearn.metrics import precision_recall_curve, roc_curve, auc, confusion_matrix, accuracy_score, precision_score\n",
    "from sklearn.metrics import mean_squared_error as mse, r2_score, mean_absolute_error as mae, f1_score, fbeta_score \n",
    "from sklearn.metrics import plot_confusion_matrix,classification_report, balanced_accuracy_score, recall_score\n",
    "from sklearn.metrics import roc_auc_score, log_loss,matthews_corrcoef, ConfusionMatrixDisplay\n",
    "\n",
    "from io import StringIO \n",
    "from IPython.display import Image,HTML \n",
    "import pydotplus\n",
    "import graphviz\n",
    "import shap\n",
    "\n",
    "import warnings\n",
    "warnings.filterwarnings('ignore')\n",
    "pd.set_option('display.max_colwidth',-1)\n",
    "%matplotlib inline"
   ]
  },
  {
   "cell_type": "code",
   "execution_count": 3,
   "id": "6846c9c1-5e72-45b7-91e1-3d72174015b9",
   "metadata": {},
   "outputs": [],
   "source": [
    "## Import Functions from pandas module.\n",
    "import sys\n",
    "sys.path.insert(1, './../../Analysis_Functions_For_Pandas')\n",
    "from functions import (preview_data,\n",
    "                       get_missing_counts,\n",
    "                       get_value_counts,\n",
    "                       get_unique_column_count,\n",
    "                       get_datetimes)   "
   ]
  },
  {
   "cell_type": "code",
   "execution_count": 4,
   "id": "54ea36e0-b50b-4570-90fb-4984446be630",
   "metadata": {},
   "outputs": [],
   "source": [
    "## Load the Data\n",
    "df = pd.read_csv('.\\..\\Data\\Finalized_DataFrame_All_Data_2_Anonymized.csv')"
   ]
  },
  {
   "cell_type": "markdown",
   "id": "6a74a742-57e7-4bd5-a57e-ed59020f0b87",
   "metadata": {},
   "source": [
    "## I. Data Exploration and Data Wrangling"
   ]
  },
  {
   "cell_type": "code",
   "execution_count": 5,
   "id": "2e90e6cd-a959-46e2-9880-3c4993f69228",
   "metadata": {},
   "outputs": [
    {
     "name": "stdout",
     "output_type": "stream",
     "text": [
      "First Five Rows of Data: \n",
      "\n"
     ]
    },
    {
     "data": {
      "text/html": [
       "<div>\n",
       "<style scoped>\n",
       "    .dataframe tbody tr th:only-of-type {\n",
       "        vertical-align: middle;\n",
       "    }\n",
       "\n",
       "    .dataframe tbody tr th {\n",
       "        vertical-align: top;\n",
       "    }\n",
       "\n",
       "    .dataframe thead th {\n",
       "        text-align: right;\n",
       "    }\n",
       "</style>\n",
       "<table border=\"1\" class=\"dataframe\">\n",
       "  <thead>\n",
       "    <tr style=\"text-align: right;\">\n",
       "      <th></th>\n",
       "      <th>Query2</th>\n",
       "      <th>Date</th>\n",
       "      <th>Username</th>\n",
       "      <th>Tweet</th>\n",
       "      <th>TweetLikes</th>\n",
       "      <th>TweetReplies</th>\n",
       "      <th>RetweetCount</th>\n",
       "      <th>Result</th>\n",
       "      <th>Team</th>\n",
       "    </tr>\n",
       "  </thead>\n",
       "  <tbody>\n",
       "    <tr>\n",
       "      <th>0</th>\n",
       "      <td>Arsenal until:2022-04-24</td>\n",
       "      <td>2022-04-23 23:59:47+00:00</td>\n",
       "      <td>Anonymous19203</td>\n",
       "      <td>@JackAFC01 @LUHG450 @1Thegameis Because you're arsenal and you have no self awareness..in our worst season in years and your best season in years and you only 6 points ahead of us and you think the gap is that big lol 🤣be real now</td>\n",
       "      <td>1</td>\n",
       "      <td>1</td>\n",
       "      <td>0</td>\n",
       "      <td>1</td>\n",
       "      <td>Arsenal</td>\n",
       "    </tr>\n",
       "    <tr>\n",
       "      <th>1</th>\n",
       "      <td>Arsenal until:2022-04-24</td>\n",
       "      <td>2022-04-23 23:59:41+00:00</td>\n",
       "      <td>Anonymous123302</td>\n",
       "      <td>@arsenal_lady bei ihm werde ich einfach immer schwach</td>\n",
       "      <td>1</td>\n",
       "      <td>0</td>\n",
       "      <td>0</td>\n",
       "      <td>1</td>\n",
       "      <td>Arsenal</td>\n",
       "    </tr>\n",
       "    <tr>\n",
       "      <th>2</th>\n",
       "      <td>Arsenal until:2022-04-24</td>\n",
       "      <td>2022-04-23 23:59:39+00:00</td>\n",
       "      <td>Anonymous134105</td>\n",
       "      <td>5 games to go\\n\\n5 cup finals \\n\\n5 games to UCL or UEL, either way I want my European trips back.\\n\\nWe can do it @Arsenal</td>\n",
       "      <td>0</td>\n",
       "      <td>0</td>\n",
       "      <td>0</td>\n",
       "      <td>1</td>\n",
       "      <td>Arsenal</td>\n",
       "    </tr>\n",
       "    <tr>\n",
       "      <th>3</th>\n",
       "      <td>Arsenal until:2022-04-24</td>\n",
       "      <td>2022-04-23 23:59:37+00:00</td>\n",
       "      <td>Anonymous112922</td>\n",
       "      <td>@Arsenal @HectorBellerin VAMOS @HectorBellerin ! Even if you stay in Spain, you'll always be loved in North London ;-)</td>\n",
       "      <td>18</td>\n",
       "      <td>0</td>\n",
       "      <td>0</td>\n",
       "      <td>1</td>\n",
       "      <td>Arsenal</td>\n",
       "    </tr>\n",
       "    <tr>\n",
       "      <th>4</th>\n",
       "      <td>Arsenal until:2022-04-24</td>\n",
       "      <td>2022-04-23 23:59:32+00:00</td>\n",
       "      <td>Anonymous65885</td>\n",
       "      <td>@Cristiano Come to @Arsenal 🐐.. so many assists and crosses with no one to finish/ tap in.</td>\n",
       "      <td>0</td>\n",
       "      <td>0</td>\n",
       "      <td>0</td>\n",
       "      <td>1</td>\n",
       "      <td>Arsenal</td>\n",
       "    </tr>\n",
       "  </tbody>\n",
       "</table>\n",
       "</div>"
      ],
      "text/plain": [
       "                     Query2                       Date         Username  \\\n",
       "0  Arsenal until:2022-04-24  2022-04-23 23:59:47+00:00  Anonymous19203    \n",
       "1  Arsenal until:2022-04-24  2022-04-23 23:59:41+00:00  Anonymous123302   \n",
       "2  Arsenal until:2022-04-24  2022-04-23 23:59:39+00:00  Anonymous134105   \n",
       "3  Arsenal until:2022-04-24  2022-04-23 23:59:37+00:00  Anonymous112922   \n",
       "4  Arsenal until:2022-04-24  2022-04-23 23:59:32+00:00  Anonymous65885    \n",
       "\n",
       "                                                                                                                                                                                                                                    Tweet  \\\n",
       "0  @JackAFC01 @LUHG450 @1Thegameis Because you're arsenal and you have no self awareness..in our worst season in years and your best season in years and you only 6 points ahead of us and you think the gap is that big lol 🤣be real now   \n",
       "1  @arsenal_lady bei ihm werde ich einfach immer schwach                                                                                                                                                                                    \n",
       "2  5 games to go\\n\\n5 cup finals \\n\\n5 games to UCL or UEL, either way I want my European trips back.\\n\\nWe can do it @Arsenal                                                                                                              \n",
       "3  @Arsenal @HectorBellerin VAMOS @HectorBellerin ! Even if you stay in Spain, you'll always be loved in North London ;-)                                                                                                                   \n",
       "4  @Cristiano Come to @Arsenal 🐐.. so many assists and crosses with no one to finish/ tap in.                                                                                                                                               \n",
       "\n",
       "   TweetLikes  TweetReplies  RetweetCount  Result     Team  \n",
       "0  1           1             0             1       Arsenal  \n",
       "1  1           0             0             1       Arsenal  \n",
       "2  0           0             0             1       Arsenal  \n",
       "3  18          0             0             1       Arsenal  \n",
       "4  0           0             0             1       Arsenal  "
      ]
     },
     "metadata": {},
     "output_type": "display_data"
    },
    {
     "name": "stdout",
     "output_type": "stream",
     "text": [
      "\n",
      " Shape: \n",
      "\n",
      "(370000, 9)\n",
      "\n",
      " Info: \n",
      "\n",
      "<class 'pandas.core.frame.DataFrame'>\n",
      "RangeIndex: 370000 entries, 0 to 369999\n",
      "Data columns (total 9 columns):\n",
      " #   Column        Non-Null Count   Dtype \n",
      "---  ------        --------------   ----- \n",
      " 0   Query2        370000 non-null  object\n",
      " 1   Date          370000 non-null  object\n",
      " 2   Username      370000 non-null  object\n",
      " 3   Tweet         370000 non-null  object\n",
      " 4   TweetLikes    370000 non-null  int64 \n",
      " 5   TweetReplies  370000 non-null  int64 \n",
      " 6   RetweetCount  370000 non-null  int64 \n",
      " 7   Result        370000 non-null  int64 \n",
      " 8   Team          370000 non-null  object\n",
      "dtypes: int64(4), object(5)\n",
      "memory usage: 25.4+ MB\n",
      "None\n"
     ]
    }
   ],
   "source": [
    "## Start by previewing the data:\n",
    "preview_data(df)"
   ]
  },
  {
   "cell_type": "code",
   "execution_count": 6,
   "id": "765bb1cf-7460-4db7-ab64-d0a4da5a8505",
   "metadata": {},
   "outputs": [
    {
     "name": "stdout",
     "output_type": "stream",
     "text": [
      "Missing Value Percentages by Column: \n",
      "\n",
      "Query2 -----> 0 -----> 0.0%\n",
      "Date -----> 0 -----> 0.0%\n",
      "Username -----> 0 -----> 0.0%\n",
      "Tweet -----> 0 -----> 0.0%\n",
      "TweetLikes -----> 0 -----> 0.0%\n",
      "TweetReplies -----> 0 -----> 0.0%\n",
      "RetweetCount -----> 0 -----> 0.0%\n",
      "Result -----> 0 -----> 0.0%\n",
      "Team -----> 0 -----> 0.0%\n"
     ]
    }
   ],
   "source": [
    "## Get the missing values\n",
    "get_missing_counts(df)"
   ]
  },
  {
   "cell_type": "code",
   "execution_count": 7,
   "id": "b46db4e3-5bd6-4798-a170-267bbed2ce39",
   "metadata": {},
   "outputs": [
    {
     "name": "stdout",
     "output_type": "stream",
     "text": [
      "Date Ranges: 2017-08-11 23:33:41+00:00 -- 2022-04-23 23:59:47+00:00\n"
     ]
    }
   ],
   "source": [
    "## Converts date to datetime. \n",
    "\n",
    "# Fix this --> get_datetimes(df,'Date',['Date'])\n",
    "df['Date'] = df['Date'].apply(pd.to_datetime)\n",
    "print('Date Ranges: {} -- {}'.format(df['Date'].min(), df['Date'].max()))"
   ]
  },
  {
   "cell_type": "markdown",
   "id": "164266bb-1bf6-436f-a0b3-381269d806ac",
   "metadata": {},
   "source": [
    "Ok, so the date ranges are between 03-29-22 and 4-13-22, so the 500,000 tweets about Arsenal are all in a two week period. \n",
    "<br> In that two week period, Arsenal were coming out of the international break and played two games which they both lost: \n",
    "- **Crystal Palace** -- *04-04-22*  \n",
    "- **Brighton & Holvion** -- *04-09-22* "
   ]
  },
  {
   "cell_type": "code",
   "execution_count": 8,
   "id": "1aa363bf-0d9b-444b-bc79-7625256502c8",
   "metadata": {},
   "outputs": [
    {
     "name": "stdout",
     "output_type": "stream",
     "text": [
      "Unique values in each object column: \n",
      "\n",
      "Query2: 370\n",
      "Username: 200163\n",
      "Tweet: 364939\n",
      "Team: 2\n"
     ]
    }
   ],
   "source": [
    "## Get unique values in each column: \n",
    "get_unique_column_count(df)"
   ]
  },
  {
   "cell_type": "markdown",
   "id": "cccba0b7-98c9-41ad-949d-6d2daf571015",
   "metadata": {},
   "source": [
    "Looking at this, we have a little more than twice as many tweets as users. "
   ]
  },
  {
   "cell_type": "code",
   "execution_count": 9,
   "id": "b9aaabb7-9b51-4fe5-931a-5dde51fdef21",
   "metadata": {},
   "outputs": [
    {
     "name": "stdout",
     "output_type": "stream",
     "text": [
      "Unique values in each object column: \n",
      "\n",
      "Query2\n",
      "Arsenal until:2022-04-24      1000\n",
      "Arsenal until:2019-02-10      1000\n",
      "Arsenal until:2019-01-02      1000\n",
      "Arsenal until:2019-01-13      1000\n",
      "Tottenham until:2019-01-14    1000\n",
      "                              ... \n",
      "Tottenham until:2020-12-07    1000\n",
      "Arsenal until:2020-12-07      1000\n",
      "Tottenham until:2020-12-14    1000\n",
      "Arsenal until:2020-12-14      1000\n",
      "Arsenal until:2017-08-12      1000\n",
      "Name: Query2, Length: 370, dtype: int64{}\n",
      "\n",
      "\n",
      "Username\n",
      "Anonymous172324    733\n",
      "Anonymous19929     505\n",
      "Anonymous193374    495\n",
      "Anonymous185859    482\n",
      "Anonymous172325    444\n",
      "                  ... \n",
      "Anonymous125581    1  \n",
      "Anonymous172528    1  \n",
      "Anonymous104154    1  \n",
      "Anonymous89844     1  \n",
      "Anonymous51654     1  \n",
      "Name: Username, Length: 200163, dtype: int64{}\n",
      "\n",
      "\n",
      "Tweet\n",
      "Klub Lokal Indonesia, Niac Mitra Mengalahkan   Arsenal 2-0 pada 16 Juni 1983 di Surabaya.                                                                                                                                                                                  150\n",
      "Tottenham have collected just 3 points from a possible 21 against teams in the top 8                                                                                                                                                                                       36 \n",
      "@Arsenal #ArtetaOut                                                                                                                                                                                                                                                        35 \n",
      "@goal Arsenal                                                                                                                                                                                                                                                              30 \n",
      "@SpursOfficial COYS                                                                                                                                                                                                                                                        27 \n",
      "                                                                                                                                                                                                                                                                           .. \n",
      "@TylerAFC_ @CFC_Cal @Enzo7ii Mate you’re a arsenal fan, he helped you guys massively with the invincible, put your agenda aside                                                                                                                                            1  \n",
      "Seeing Arsenal milking a FA Cup trophy win told me alot about the mentality.                                                                                                                                                                                               1  \n",
      "Arsenal used to be criticized for it's defence. Now it's the Attack                                                                                                                                                                                                        1  \n",
      "@Arsenal 72Million for Pepe, 100K P/W... How can I support Arsenal, when the players want to be UFC fighters. It's embarrassing, where is the professionalism? professional footballers without any professionalism, the shame. Get your act together. #sortoutthehouse    1  \n",
      "@Arsenal_MI Xhaka cometió muchos errores defensivos, y compensó con las dos asistencias. Necesitamos un CDM que termine los ataques, y un CB de calidad                                                                                                                    1  \n",
      "Name: Tweet, Length: 364939, dtype: int64{}\n",
      "\n",
      "\n",
      "Team\n",
      "Arsenal      185000\n",
      "Tottenham    185000\n",
      "Name: Team, dtype: int64{}\n",
      "\n",
      "\n"
     ]
    }
   ],
   "source": [
    "## Get Values\n",
    "get_value_counts(df)"
   ]
  },
  {
   "cell_type": "code",
   "execution_count": 10,
   "id": "ce7f814f-9c8e-4234-8d14-16d0ccafc837",
   "metadata": {},
   "outputs": [
    {
     "data": {
      "text/html": [
       "<div>\n",
       "<style scoped>\n",
       "    .dataframe tbody tr th:only-of-type {\n",
       "        vertical-align: middle;\n",
       "    }\n",
       "\n",
       "    .dataframe tbody tr th {\n",
       "        vertical-align: top;\n",
       "    }\n",
       "\n",
       "    .dataframe thead th {\n",
       "        text-align: right;\n",
       "    }\n",
       "</style>\n",
       "<table border=\"1\" class=\"dataframe\">\n",
       "  <thead>\n",
       "    <tr style=\"text-align: right;\">\n",
       "      <th></th>\n",
       "      <th>TweetLikes</th>\n",
       "      <th>TweetReplies</th>\n",
       "      <th>RetweetCount</th>\n",
       "      <th>Result</th>\n",
       "    </tr>\n",
       "  </thead>\n",
       "  <tbody>\n",
       "    <tr>\n",
       "      <th>count</th>\n",
       "      <td>370000.000000</td>\n",
       "      <td>370000.000000</td>\n",
       "      <td>370000.000000</td>\n",
       "      <td>370000.000000</td>\n",
       "    </tr>\n",
       "    <tr>\n",
       "      <th>mean</th>\n",
       "      <td>13.227970</td>\n",
       "      <td>0.613457</td>\n",
       "      <td>1.463178</td>\n",
       "      <td>0.510811</td>\n",
       "    </tr>\n",
       "    <tr>\n",
       "      <th>std</th>\n",
       "      <td>346.070628</td>\n",
       "      <td>8.751398</td>\n",
       "      <td>44.362228</td>\n",
       "      <td>0.499884</td>\n",
       "    </tr>\n",
       "    <tr>\n",
       "      <th>min</th>\n",
       "      <td>0.000000</td>\n",
       "      <td>0.000000</td>\n",
       "      <td>0.000000</td>\n",
       "      <td>0.000000</td>\n",
       "    </tr>\n",
       "    <tr>\n",
       "      <th>25%</th>\n",
       "      <td>0.000000</td>\n",
       "      <td>0.000000</td>\n",
       "      <td>0.000000</td>\n",
       "      <td>0.000000</td>\n",
       "    </tr>\n",
       "    <tr>\n",
       "      <th>50%</th>\n",
       "      <td>0.000000</td>\n",
       "      <td>0.000000</td>\n",
       "      <td>0.000000</td>\n",
       "      <td>1.000000</td>\n",
       "    </tr>\n",
       "    <tr>\n",
       "      <th>75%</th>\n",
       "      <td>1.000000</td>\n",
       "      <td>0.000000</td>\n",
       "      <td>0.000000</td>\n",
       "      <td>1.000000</td>\n",
       "    </tr>\n",
       "    <tr>\n",
       "      <th>max</th>\n",
       "      <td>85832.000000</td>\n",
       "      <td>2099.000000</td>\n",
       "      <td>12598.000000</td>\n",
       "      <td>1.000000</td>\n",
       "    </tr>\n",
       "  </tbody>\n",
       "</table>\n",
       "</div>"
      ],
      "text/plain": [
       "          TweetLikes   TweetReplies   RetweetCount         Result\n",
       "count  370000.000000  370000.000000  370000.000000  370000.000000\n",
       "mean   13.227970      0.613457       1.463178       0.510811     \n",
       "std    346.070628     8.751398       44.362228      0.499884     \n",
       "min    0.000000       0.000000       0.000000       0.000000     \n",
       "25%    0.000000       0.000000       0.000000       0.000000     \n",
       "50%    0.000000       0.000000       0.000000       1.000000     \n",
       "75%    1.000000       0.000000       0.000000       1.000000     \n",
       "max    85832.000000   2099.000000    12598.000000   1.000000     "
      ]
     },
     "execution_count": 10,
     "metadata": {},
     "output_type": "execute_result"
    }
   ],
   "source": [
    "## We can look at the distribution of our tweets.\n",
    "df.describe()"
   ]
  },
  {
   "cell_type": "markdown",
   "id": "4917a36b-a911-4edb-aefd-82b53c4d3f30",
   "metadata": {},
   "source": [
    "## II. Exploratory Data Analysis"
   ]
  },
  {
   "cell_type": "markdown",
   "id": "bdb68188-9681-45eb-9b06-d75d09f04801",
   "metadata": {},
   "source": [
    "#### Tweet Dates:"
   ]
  },
  {
   "cell_type": "code",
   "execution_count": 11,
   "id": "8bfb4092-c4f3-49a3-a235-fc17a3ad236e",
   "metadata": {},
   "outputs": [
    {
     "data": {
      "image/png": "[encoded data removed]",
      "text/plain": [
       "<Figure size 1800x1080 with 2 Axes>"
      ]
     },
     "metadata": {
      "needs_background": "light"
     },
     "output_type": "display_data"
    },
    {
     "data": {
      "text/plain": [
       "<Figure size 1440x576 with 0 Axes>"
      ]
     },
     "metadata": {},
     "output_type": "display_data"
    }
   ],
   "source": [
    "## We create a time-series Dataframe and resample by day.\n",
    "time_df = df[['Date','Username']]\n",
    "time_df['Date'] = pd.to_datetime(time_df['Date'])\n",
    "time_df['Tweet'] = 1\n",
    "time_df.drop(columns='Username', inplace=True)\n",
    "time_df.set_index('Date', inplace = True)\n",
    "time_df = time_df.resample('d').sum()\n",
    "time_df\n",
    "\n",
    "## We plot the number of tweets during the time period.\n",
    "fig, axes = plt.subplots(2, figsize=(25,15))\n",
    "fig.suptitle('Distribution of time', fontsize =40)\n",
    "fig.subplots_adjust(hspace=1.2)\n",
    "plt.figure(figsize=(20,8))\n",
    "\n",
    "axes[0].plot(time_df, label = '# of tweets')\n",
    "axes[0].set_title('Evolution of Tweets about Arsenal for period {} - {}'.format(df['Date'].min(), df['Date'].max()), fontsize = 20, pad =20)\n",
    "axes[0].set_xlabel('Day', fontsize = 18)\n",
    "axes[0].set_ylabel('Total Tweets', fontsize = 18)\n",
    "axes[0].legend(loc='best')\n",
    "plt.show()"
   ]
  },
  {
   "cell_type": "markdown",
   "id": "c73568e0-5892-48ca-b38c-a02bf4952125",
   "metadata": {},
   "source": [
    "Let's look at a preview of the 10 most liked tweets. "
   ]
  },
  {
   "cell_type": "markdown",
   "id": "ced03753-9d44-43ca-8756-3015808d7666",
   "metadata": {},
   "source": [
    "#### Most Popular Tweets:"
   ]
  },
  {
   "cell_type": "code",
   "execution_count": 12,
   "id": "03aa32df-abf3-4d7e-a63d-e75858d9575a",
   "metadata": {},
   "outputs": [
    {
     "data": {
      "text/html": [
       "<div>\n",
       "<style scoped>\n",
       "    .dataframe tbody tr th:only-of-type {\n",
       "        vertical-align: middle;\n",
       "    }\n",
       "\n",
       "    .dataframe tbody tr th {\n",
       "        vertical-align: top;\n",
       "    }\n",
       "\n",
       "    .dataframe thead th {\n",
       "        text-align: right;\n",
       "    }\n",
       "</style>\n",
       "<table border=\"1\" class=\"dataframe\">\n",
       "  <thead>\n",
       "    <tr style=\"text-align: right;\">\n",
       "      <th></th>\n",
       "      <th>Tweet</th>\n",
       "      <th>Date</th>\n",
       "      <th>TweetLikes</th>\n",
       "      <th>Username</th>\n",
       "      <th>Team</th>\n",
       "    </tr>\n",
       "  </thead>\n",
       "  <tbody>\n",
       "    <tr>\n",
       "      <th>176616</th>\n",
       "      <td>Great start of the year. Let’s keep improving together #alltogether #arsenal 2-0 #arsenalvsmanutd https://t.co/PWvqTSyMMm</td>\n",
       "      <td>2020-01-01 23:49:16+00:00</td>\n",
       "      <td>85832</td>\n",
       "      <td>Anonymous115802</td>\n",
       "      <td>Arsenal</td>\n",
       "    </tr>\n",
       "    <tr>\n",
       "      <th>176395</th>\n",
       "      <td>That winnin' feeling 🙌🏼😀 #letskeepthisgoing #YaGunnersYa #M1Ö @arsenal https://t.co/spMq7dx0BR</td>\n",
       "      <td>2020-01-01 23:52:56+00:00</td>\n",
       "      <td>65144</td>\n",
       "      <td>Anonymous123930</td>\n",
       "      <td>Arsenal</td>\n",
       "    </tr>\n",
       "    <tr>\n",
       "      <th>69878</th>\n",
       "      <td>Pochettino was dismissed from Tottenham and won two trophies in his first season with PSG 🏆 https://t.co/O4cj0xHb7Q</td>\n",
       "      <td>2021-05-19 22:19:57+00:00</td>\n",
       "      <td>40817</td>\n",
       "      <td>Anonymous61382</td>\n",
       "      <td>Tottenham</td>\n",
       "    </tr>\n",
       "    <tr>\n",
       "      <th>27871</th>\n",
       "      <td>Incredible. Inconceivable.\\n\\nWe have no words for this. https://t.co/eQAUaKleRi</td>\n",
       "      <td>2022-01-19 23:30:00+00:00</td>\n",
       "      <td>36590</td>\n",
       "      <td>Anonymous172333</td>\n",
       "      <td>Tottenham</td>\n",
       "    </tr>\n",
       "    <tr>\n",
       "      <th>139104</th>\n",
       "      <td>Great effort from the boys, three points and we keep going! \\n#W12 #premierleague #arsenal https://t.co/Ip1jRpsiqG</td>\n",
       "      <td>2020-09-19 23:54:20+00:00</td>\n",
       "      <td>34758</td>\n",
       "      <td>Anonymous194754</td>\n",
       "      <td>Arsenal</td>\n",
       "    </tr>\n",
       "    <tr>\n",
       "      <th>244364</th>\n",
       "      <td>Who’s ur ride or die for Super Bowl Sunday Football???\\n\\n21 Savage: Arsenal \\n\\nICE: https://t.co/qbvp5ZP8ZW</td>\n",
       "      <td>2019-02-03 23:40:11+00:00</td>\n",
       "      <td>31388</td>\n",
       "      <td>Anonymous134051</td>\n",
       "      <td>Arsenal</td>\n",
       "    </tr>\n",
       "    <tr>\n",
       "      <th>107693</th>\n",
       "      <td>Arsenal using my theme song. The only thing missing, due to COVID, is 30,000 fans chanting “You Suck”. #YouSuckCovid #itstrue https://t.co/VQncpBsoin</td>\n",
       "      <td>2021-01-14 23:28:31+00:00</td>\n",
       "      <td>30610</td>\n",
       "      <td>Anonymous153789</td>\n",
       "      <td>Arsenal</td>\n",
       "    </tr>\n",
       "    <tr>\n",
       "      <th>214747</th>\n",
       "      <td>This guy... \\n\\n🥰🥰🥰 https://t.co/z9e8hfb7oS</td>\n",
       "      <td>2019-08-17 23:05:00+00:00</td>\n",
       "      <td>30353</td>\n",
       "      <td>Anonymous19893</td>\n",
       "      <td>Arsenal</td>\n",
       "    </tr>\n",
       "    <tr>\n",
       "      <th>193652</th>\n",
       "      <td>Unreal, @dele_official! 🔥\\n\\n#THFC ⚪️ #COYS https://t.co/VWcXKZgpeq</td>\n",
       "      <td>2019-11-23 22:25:00+00:00</td>\n",
       "      <td>29402</td>\n",
       "      <td>Anonymous172333</td>\n",
       "      <td>Tottenham</td>\n",
       "    </tr>\n",
       "    <tr>\n",
       "      <th>369</th>\n",
       "      <td>Copa del Rey: 𝗖𝗵𝗮𝗺𝗽𝗶𝗼𝗻 🏆 \\n\\nCongratulations, @HectorBellerin ✊\\n\\n#CopaDelRey | #BetisAlé https://t.co/1QOHlYSxVu</td>\n",
       "      <td>2022-04-23 23:42:30+00:00</td>\n",
       "      <td>29200</td>\n",
       "      <td>Anonymous19893</td>\n",
       "      <td>Arsenal</td>\n",
       "    </tr>\n",
       "  </tbody>\n",
       "</table>\n",
       "</div>"
      ],
      "text/plain": [
       "                                                                                                                                                        Tweet  \\\n",
       "176616  Great start of the year. Let’s keep improving together #alltogether #arsenal 2-0 #arsenalvsmanutd https://t.co/PWvqTSyMMm                               \n",
       "176395  That winnin' feeling 🙌🏼😀 #letskeepthisgoing #YaGunnersYa #M1Ö @arsenal https://t.co/spMq7dx0BR                                                          \n",
       "69878   Pochettino was dismissed from Tottenham and won two trophies in his first season with PSG 🏆 https://t.co/O4cj0xHb7Q                                     \n",
       "27871   Incredible. Inconceivable.\\n\\nWe have no words for this. https://t.co/eQAUaKleRi                                                                        \n",
       "139104  Great effort from the boys, three points and we keep going! \\n#W12 #premierleague #arsenal https://t.co/Ip1jRpsiqG                                      \n",
       "244364  Who’s ur ride or die for Super Bowl Sunday Football???\\n\\n21 Savage: Arsenal \\n\\nICE: https://t.co/qbvp5ZP8ZW                                           \n",
       "107693  Arsenal using my theme song. The only thing missing, due to COVID, is 30,000 fans chanting “You Suck”. #YouSuckCovid #itstrue https://t.co/VQncpBsoin   \n",
       "214747  This guy... \\n\\n🥰🥰🥰 https://t.co/z9e8hfb7oS                                                                                                             \n",
       "193652  Unreal, @dele_official! 🔥\\n\\n#THFC ⚪️ #COYS https://t.co/VWcXKZgpeq                                                                                     \n",
       "369     Copa del Rey: 𝗖𝗵𝗮𝗺𝗽𝗶𝗼𝗻 🏆 \\n\\nCongratulations, @HectorBellerin ✊\\n\\n#CopaDelRey | #BetisAlé https://t.co/1QOHlYSxVu                                      \n",
       "\n",
       "                            Date  TweetLikes         Username       Team  \n",
       "176616 2020-01-01 23:49:16+00:00  85832       Anonymous115802  Arsenal    \n",
       "176395 2020-01-01 23:52:56+00:00  65144       Anonymous123930  Arsenal    \n",
       "69878  2021-05-19 22:19:57+00:00  40817       Anonymous61382   Tottenham  \n",
       "27871  2022-01-19 23:30:00+00:00  36590       Anonymous172333  Tottenham  \n",
       "139104 2020-09-19 23:54:20+00:00  34758       Anonymous194754  Arsenal    \n",
       "244364 2019-02-03 23:40:11+00:00  31388       Anonymous134051  Arsenal    \n",
       "107693 2021-01-14 23:28:31+00:00  30610       Anonymous153789  Arsenal    \n",
       "214747 2019-08-17 23:05:00+00:00  30353       Anonymous19893   Arsenal    \n",
       "193652 2019-11-23 22:25:00+00:00  29402       Anonymous172333  Tottenham  \n",
       "369    2022-04-23 23:42:30+00:00  29200       Anonymous19893   Arsenal    "
      ]
     },
     "execution_count": 12,
     "metadata": {},
     "output_type": "execute_result"
    }
   ],
   "source": [
    "## Let's look at the 10 most popular tweets in the dataset.\n",
    "df[['Tweet','Date','TweetLikes','Username','Team']].sort_values('TweetLikes', ascending =False).head(10)"
   ]
  },
  {
   "cell_type": "markdown",
   "id": "f016f093-9fe4-436f-863d-23a8b25e44ce",
   "metadata": {},
   "source": [
    "## Wordcloud"
   ]
  },
  {
   "cell_type": "markdown",
   "id": "160200e2-76ba-4bc0-a29b-49389b95518d",
   "metadata": {},
   "source": [
    "Tweets without removing Tottenham and Arsenal"
   ]
  },
  {
   "cell_type": "markdown",
   "id": "d0318457-b26c-4fc4-bba6-c0bb4fd6ede0",
   "metadata": {},
   "source": [
    "<img src=\"../images/worldcloud.jpg\" style=\"width:800px;height:400px\"/>"
   ]
  },
  {
   "cell_type": "markdown",
   "id": "7888b25d-a6d2-48bc-a337-52261676db39",
   "metadata": {},
   "source": [
    "Tweets when removing Arsenal and Tottenham"
   ]
  },
  {
   "cell_type": "markdown",
   "id": "00c10f80-d831-4491-bd47-16d0e3268944",
   "metadata": {},
   "source": [
    "<img src=\"../images/WordCloud_No_Club.jpg\" style=\"width:800px;height:400px\"/>"
   ]
  },
  {
   "cell_type": "code",
   "execution_count": 13,
   "id": "8b9b9a09-c230-4092-90ad-a1904d0ae529",
   "metadata": {},
   "outputs": [],
   "source": [
    "## Collect all the tweets in our dataframe and store it into a list.\n",
    "tweets = []\n",
    "for i in df['Tweet']:\n",
    "    tweets.append(i)\n",
    "\n",
    "## For each tweet, extract each word and put it into all_words. Remove https links and user mentions.\n",
    "all_words = []\n",
    "for tweet in tweets:\n",
    "    for word in tweet.split(' '):\n",
    "        if word.startswith('https://'):\n",
    "            word = \" \"\n",
    "        if word.startswith('@'):\n",
    "            word = \" \"\n",
    "        if word.startswith('Arse') or word.startswith('arse'):   ##Uncomment to remove all Arsenal mentions.\n",
    "            word = \" \"\n",
    "        if word.startswith('Tott') or word.startswith('totten'): ##Uncomment to remove all Tottenham mentions.  \n",
    "            word = \" \"\n",
    "        if len(word) <= 3:\n",
    "            word = \" \" \n",
    "        all_words.append(word)\n",
    "\n",
    "## Get the first one million words and create a wordcloud.  \n",
    "list_of_words = \" \"\n",
    "for i in all_words[0:100000]: \n",
    "    list_of_words += (i+ \" \" )"
   ]
  },
  {
   "cell_type": "code",
   "execution_count": 14,
   "id": "6781251c-6ed4-4ebf-b68b-ba6f9ac22c37",
   "metadata": {},
   "outputs": [],
   "source": [
    "from nltk.corpus import stopwords\n",
    "def content_text(text):\n",
    "    stopwords = nltk.corpus.stopwords.words('english')\n",
    "    content = [w for w in text if w.lower() in stopwords]\n",
    "    return content"
   ]
  },
  {
   "cell_type": "code",
   "execution_count": 15,
   "id": "a8c4df6d-5ab2-4a31-8530-0f34c2842b37",
   "metadata": {},
   "outputs": [],
   "source": [
    "import nltk\n",
    "allWords = nltk.tokenize.word_tokenize(list_of_words)\n",
    "allWordDist = nltk.FreqDist(w.lower() for w in allWords)\n",
    "\n",
    "stopwords = nltk.corpus.stopwords.words('english')\n",
    "extra = ['.',\",\",\"#\",\",\",\"!\",\"?\",\"ðÿ\",\":\",\"”\",\"'s\"]\n",
    "stopwords.extend(extra)\n",
    "allWordExceptStopDist = nltk.FreqDist(w.lower() for w in allWords if w not in stopwords)    "
   ]
  },
  {
   "cell_type": "code",
   "execution_count": 16,
   "id": "44b26dcc-a655-43eb-8d44-97fc59ad2de8",
   "metadata": {},
   "outputs": [
    {
     "data": {
      "text/plain": [
       "FreqDist({'’': 1040, 'chelsea': 427, \"n't\": 300, 'united': 287, 'arsenal': 261, 'fans': 245, ')': 243, 'league': 238, '(': 231, 'like': 208, ...})"
      ]
     },
     "execution_count": 16,
     "metadata": {},
     "output_type": "execute_result"
    }
   ],
   "source": [
    "allWordExceptStopDist"
   ]
  },
  {
   "cell_type": "code",
   "execution_count": 17,
   "id": "9c4711cb-aece-40c2-afe5-169513a675c5",
   "metadata": {},
   "outputs": [],
   "source": [
    "df['Tweet_Cleaned'] = df['Tweet'].str.replace(\"[^a-zA-Z#]\",\" \")"
   ]
  },
  {
   "cell_type": "code",
   "execution_count": 18,
   "id": "99b2945c-b420-4602-a4f7-aa098164414b",
   "metadata": {},
   "outputs": [],
   "source": [
    "df[\"clean_tweet\"] = df['Tweet_Cleaned'].apply(lambda x: \" \".join([w for w in x.split() if len(w) >3]))"
   ]
  },
  {
   "cell_type": "markdown",
   "id": "201bc6a3-288a-4e55-9b82-efa4f2d9a666",
   "metadata": {},
   "source": [
    "## III. Preprocessing and Modeling"
   ]
  },
  {
   "cell_type": "code",
   "execution_count": 19,
   "id": "02375497-0148-45e6-94f4-2b904d4b645b",
   "metadata": {},
   "outputs": [],
   "source": [
    "simp = df[['Team','Result','clean_tweet']]"
   ]
  },
  {
   "cell_type": "code",
   "execution_count": 20,
   "id": "0e8aea71-991c-4280-a7f5-0de2e8e09ff0",
   "metadata": {},
   "outputs": [
    {
     "data": {
      "text/html": [
       "<div>\n",
       "<style scoped>\n",
       "    .dataframe tbody tr th:only-of-type {\n",
       "        vertical-align: middle;\n",
       "    }\n",
       "\n",
       "    .dataframe tbody tr th {\n",
       "        vertical-align: top;\n",
       "    }\n",
       "\n",
       "    .dataframe thead th {\n",
       "        text-align: right;\n",
       "    }\n",
       "</style>\n",
       "<table border=\"1\" class=\"dataframe\">\n",
       "  <thead>\n",
       "    <tr style=\"text-align: right;\">\n",
       "      <th></th>\n",
       "      <th>Team</th>\n",
       "      <th>Result</th>\n",
       "      <th>clean_tweet</th>\n",
       "    </tr>\n",
       "  </thead>\n",
       "  <tbody>\n",
       "    <tr>\n",
       "      <th>143033</th>\n",
       "      <td>Tottenham</td>\n",
       "      <td>0</td>\n",
       "      <td>Arsenal Leicester Tottenham options that Brazilian contemplates sport</td>\n",
       "    </tr>\n",
       "    <tr>\n",
       "      <th>334985</th>\n",
       "      <td>Arsenal</td>\n",
       "      <td>1</td>\n",
       "      <td>ArsenalFanTV Teams worked play against arsenal about years Wenger blinded arrogance refuses believe this hence blames refs players time wasting every week</td>\n",
       "    </tr>\n",
       "    <tr>\n",
       "      <th>118881</th>\n",
       "      <td>Arsenal</td>\n",
       "      <td>0</td>\n",
       "      <td>Chris Rich Bray Arsenal Wayasay</td>\n",
       "    </tr>\n",
       "  </tbody>\n",
       "</table>\n",
       "</div>"
      ],
      "text/plain": [
       "             Team  Result  \\\n",
       "143033  Tottenham  0        \n",
       "334985  Arsenal    1        \n",
       "118881  Arsenal    0        \n",
       "\n",
       "                                                                                                                                                       clean_tweet  \n",
       "143033  Arsenal Leicester Tottenham options that Brazilian contemplates sport                                                                                       \n",
       "334985  ArsenalFanTV Teams worked play against arsenal about years Wenger blinded arrogance refuses believe this hence blames refs players time wasting every week  \n",
       "118881  Chris Rich Bray Arsenal Wayasay                                                                                                                             "
      ]
     },
     "execution_count": 20,
     "metadata": {},
     "output_type": "execute_result"
    }
   ],
   "source": [
    "simp.sample(3)"
   ]
  },
  {
   "cell_type": "markdown",
   "id": "9497d496-71ec-4971-b1fe-eaf9798b5fe1",
   "metadata": {},
   "source": [
    "## IV. Conclusions"
   ]
  },
  {
   "cell_type": "code",
   "execution_count": 21,
   "id": "9fea1f99-800a-4f27-be3f-a1acca8183a5",
   "metadata": {},
   "outputs": [
    {
     "data": {
      "text/plain": [
       "0    [JackAFC, LUHG, Thegameis, Because, arsenal, have, self, awareness, worst, season, years, your, best, season, years, only, points, ahead, think, that, real]\n",
       "1    [arsenal, lady, werde, einfach, immer, schwach]                                                                                                             \n",
       "2    [games, finals, games, either, want, European, trips, back, Arsenal]                                                                                        \n",
       "3    [Arsenal, HectorBellerin, VAMOS, HectorBellerin, Even, stay, Spain, always, loved, North, London]                                                           \n",
       "4    [Cristiano, Come, Arsenal, many, assists, crosses, with, finish]                                                                                            \n",
       "Name: clean_tweet, dtype: object"
      ]
     },
     "execution_count": 21,
     "metadata": {},
     "output_type": "execute_result"
    }
   ],
   "source": [
    "tokenized_tweet = simp['clean_tweet'].apply(lambda x: x.split())\n",
    "tokenized_tweet.head()"
   ]
  },
  {
   "cell_type": "code",
   "execution_count": null,
   "id": "eeda91b1-d26a-4ffd-ae06-9e256ba41d76",
   "metadata": {},
   "outputs": [],
   "source": []
  },
  {
   "cell_type": "code",
   "execution_count": 22,
   "id": "aebdd746-23df-4834-8593-5744179fc60b",
   "metadata": {},
   "outputs": [],
   "source": [
    "from nltk.stem.porter import PorterStemmer\n",
    "stemmer = PorterStemmer()\n",
    "\n",
    "tokenized_tweet = tokenized_tweet.apply(lambda x:[stemmer.stem(word) for word in x])"
   ]
  },
  {
   "cell_type": "code",
   "execution_count": 23,
   "id": "00a6ff1c-2958-407e-b581-27ea15e09328",
   "metadata": {},
   "outputs": [
    {
     "data": {
      "text/plain": [
       "0    [jackafc, luhg, thegamei, becaus, arsen, have, self, awar, worst, season, year, your, best, season, year, onli, point, ahead, think, that, real]\n",
       "1    [arsen, ladi, werd, einfach, immer, schwach]                                                                                                    \n",
       "2    [game, final, game, either, want, european, trip, back, arsen]                                                                                  \n",
       "3    [arsen, hectorbellerin, vamo, hectorbellerin, even, stay, spain, alway, love, north, london]                                                    \n",
       "4    [cristiano, come, arsen, mani, assist, cross, with, finish]                                                                                     \n",
       "Name: clean_tweet, dtype: object"
      ]
     },
     "execution_count": 23,
     "metadata": {},
     "output_type": "execute_result"
    }
   ],
   "source": [
    "tokenized_tweet.head()"
   ]
  },
  {
   "cell_type": "code",
   "execution_count": 24,
   "id": "d7959f14-e484-4329-9011-14f7cc0c39b2",
   "metadata": {},
   "outputs": [
    {
     "data": {
      "text/html": [
       "<div>\n",
       "<style scoped>\n",
       "    .dataframe tbody tr th:only-of-type {\n",
       "        vertical-align: middle;\n",
       "    }\n",
       "\n",
       "    .dataframe tbody tr th {\n",
       "        vertical-align: top;\n",
       "    }\n",
       "\n",
       "    .dataframe thead th {\n",
       "        text-align: right;\n",
       "    }\n",
       "</style>\n",
       "<table border=\"1\" class=\"dataframe\">\n",
       "  <thead>\n",
       "    <tr style=\"text-align: right;\">\n",
       "      <th></th>\n",
       "      <th>Team</th>\n",
       "      <th>Result</th>\n",
       "      <th>clean_tweet</th>\n",
       "    </tr>\n",
       "  </thead>\n",
       "  <tbody>\n",
       "    <tr>\n",
       "      <th>0</th>\n",
       "      <td>Arsenal</td>\n",
       "      <td>1</td>\n",
       "      <td>jackafc luhg thegamei becaus arsen have self awar worst season year your best season year onli point ahead think that real</td>\n",
       "    </tr>\n",
       "    <tr>\n",
       "      <th>1</th>\n",
       "      <td>Arsenal</td>\n",
       "      <td>1</td>\n",
       "      <td>arsen ladi werd einfach immer schwach</td>\n",
       "    </tr>\n",
       "    <tr>\n",
       "      <th>2</th>\n",
       "      <td>Arsenal</td>\n",
       "      <td>1</td>\n",
       "      <td>game final game either want european trip back arsen</td>\n",
       "    </tr>\n",
       "    <tr>\n",
       "      <th>3</th>\n",
       "      <td>Arsenal</td>\n",
       "      <td>1</td>\n",
       "      <td>arsen hectorbellerin vamo hectorbellerin even stay spain alway love north london</td>\n",
       "    </tr>\n",
       "    <tr>\n",
       "      <th>4</th>\n",
       "      <td>Arsenal</td>\n",
       "      <td>1</td>\n",
       "      <td>cristiano come arsen mani assist cross with finish</td>\n",
       "    </tr>\n",
       "  </tbody>\n",
       "</table>\n",
       "</div>"
      ],
      "text/plain": [
       "      Team  Result  \\\n",
       "0  Arsenal  1        \n",
       "1  Arsenal  1        \n",
       "2  Arsenal  1        \n",
       "3  Arsenal  1        \n",
       "4  Arsenal  1        \n",
       "\n",
       "                                                                                                                  clean_tweet  \n",
       "0  jackafc luhg thegamei becaus arsen have self awar worst season year your best season year onli point ahead think that real  \n",
       "1  arsen ladi werd einfach immer schwach                                                                                       \n",
       "2  game final game either want european trip back arsen                                                                        \n",
       "3  arsen hectorbellerin vamo hectorbellerin even stay spain alway love north london                                            \n",
       "4  cristiano come arsen mani assist cross with finish                                                                          "
      ]
     },
     "execution_count": 24,
     "metadata": {},
     "output_type": "execute_result"
    }
   ],
   "source": [
    "## combine wordsinto single sentence:\n",
    "for i in range(len(tokenized_tweet)):\n",
    "    tokenized_tweet[i] = \" \".join(tokenized_tweet[i])\n",
    "simp['clean_tweet'] = tokenized_tweet\n",
    "simp.head()"
   ]
  },
  {
   "cell_type": "markdown",
   "id": "d287d7a5-28f1-42d5-b5fa-65de3a4d1c7d",
   "metadata": {},
   "source": [
    "## Exploratory Data Analysis "
   ]
  },
  {
   "cell_type": "code",
   "execution_count": null,
   "id": "ef45ac57-91af-4fa5-a2bd-ba43b68f6e5b",
   "metadata": {},
   "outputs": [],
   "source": []
  }
 ],
 "metadata": {
  "kernelspec": {
   "display_name": "py37",
   "language": "python",
   "name": "py37"
  },
  "language_info": {
   "codemirror_mode": {
    "name": "ipython",
    "version": 3
   },
   "file_extension": ".py",
   "mimetype": "text/x-python",
   "name": "python",
   "nbconvert_exporter": "python",
   "pygments_lexer": "ipython3",
   "version": "3.7.0"
  }
 },
 "nbformat": 4,
 "nbformat_minor": 5
}
