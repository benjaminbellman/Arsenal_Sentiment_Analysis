{
 "cells": [
  {
   "cell_type": "markdown",
   "id": "bbd820bb-bd57-42af-ae93-13dde5fab4b1",
   "metadata": {},
   "source": [
    "# Arsenal Social Sentiment Analysis\n",
    "## Forecasting User Sentiment between games. \n",
    "by *Ben N. Bellman* \n",
    "<br> Prepared as Springboard Capstone Project\n",
    "<br> *4/13/2022*"
   ]
  },
  {
   "cell_type": "markdown",
   "id": "c3c63a86-5a57-4ab8-8644-37b4e080fa86",
   "metadata": {},
   "source": [
    "<img src=\"../images/who-s-denilo-SuBb_SiEEM8-unsplash.jpg\" style=\"width:800px;height:400px\"/>"
   ]
  },
  {
   "cell_type": "markdown",
   "id": "104a1bea-cfc8-4099-a97f-75194a024454",
   "metadata": {},
   "source": [
    "### WARNING: \n",
    "*Although the usernames have been anonymized as to protect the privacy of the users in this analysis, the tweets are still in raw format and may contain inappropriate / sensitive content. Viewer discretion is advised*"
   ]
  },
  {
   "cell_type": "markdown",
   "id": "ba05f0e7-b9b6-48d6-9b2c-ccaf8ff1f06b",
   "metadata": {},
   "source": [
    "## Outline"
   ]
  },
  {
   "cell_type": "markdown",
   "id": "180bbd65-d224-4aa4-8e2e-d618ec42d938",
   "metadata": {},
   "source": [
    "## Data Mapping: "
   ]
  },
  {
   "cell_type": "markdown",
   "id": "ad9ae830-cad4-4b70-9e47-6f5ab1c9a406",
   "metadata": {},
   "source": [
    "One of the important things to know for the analysis is the schedule of the games.\n",
    "The objective in the social sentiment analysis is to predict whether or not a specific tweet is likely to come  "
   ]
  },
  {
   "cell_type": "code",
   "execution_count": 1,
   "id": "1b5a3a8d-c3e4-4748-ab6f-13cf7cf51120",
   "metadata": {},
   "outputs": [
    {
     "name": "stdout",
     "output_type": "stream",
     "text": [
      "Last updated: 2022-05-02T17:03:34.002506-07:00\n",
      "\n",
      "Python implementation: CPython\n",
      "Python version       : 3.9.12\n",
      "IPython version      : 8.0.1\n",
      "\n",
      "Compiler    : MSC v.1929 64 bit (AMD64)\n",
      "OS          : Windows\n",
      "Release     : 10\n",
      "Machine     : AMD64\n",
      "Processor   : Intel64 Family 6 Model 142 Stepping 12, GenuineIntel\n",
      "CPU cores   : 8\n",
      "Architecture: 64bit\n",
      "\n"
     ]
    }
   ],
   "source": [
    "%load_ext watermark\n",
    "%watermark "
   ]
  },
  {
   "cell_type": "code",
   "execution_count": 2,
   "id": "ba8542c1-eb51-44c0-91c2-05fbb1cd627c",
   "metadata": {},
   "outputs": [],
   "source": [
    "## We start by importing the packages we will use.\n",
    "\n",
    "import pandas as pd\n",
    "import numpy as np\n",
    "import matplotlib.pyplot as plt\n",
    "import seaborn as sns\n",
    "\n",
    "import statsmodels.api as sm\n",
    "from statsmodels.graphics.api import abline_plot \n",
    "\n",
    "from sklearn.preprocessing import StandardScaler, LabelEncoder\n",
    "from sklearn.model_selection import train_test_split, GridSearchCV, RandomizedSearchCV\n",
    "from imblearn.under_sampling import RandomUnderSampler\n",
    "\n",
    "from sklearn.linear_model import LinearRegression, LogisticRegression, SGDClassifier\n",
    "from sklearn.neighbors import KNeighborsClassifier\n",
    "from sklearn.naive_bayes import GaussianNB\n",
    "from sklearn.svm import SVC\n",
    "from sklearn.tree import DecisionTreeRegressor, DecisionTreeClassifier, plot_tree, export_graphviz\n",
    "from sklearn.ensemble import RandomForestClassifier,RandomForestRegressor, GradientBoostingClassifier, AdaBoostClassifier\n",
    "import xgboost as xgb \n",
    "\n",
    "from sklearn.metrics import precision_recall_curve, roc_curve, auc, confusion_matrix, accuracy_score, precision_score\n",
    "from sklearn.metrics import mean_squared_error as mse, r2_score, mean_absolute_error as mae, f1_score, fbeta_score \n",
    "from sklearn.metrics import plot_confusion_matrix,classification_report, balanced_accuracy_score, recall_score\n",
    "from sklearn.metrics import roc_auc_score, log_loss,matthews_corrcoef, ConfusionMatrixDisplay\n",
    "\n",
    "from io import StringIO \n",
    "from IPython.display import Image,HTML \n",
    "import pydotplus\n",
    "import graphviz\n",
    "import shap\n",
    "\n",
    "import warnings\n",
    "warnings.filterwarnings('ignore')\n",
    "pd.set_option('display.max_colwidth',-1)\n",
    "%matplotlib inline"
   ]
  },
  {
   "cell_type": "code",
   "execution_count": 3,
   "id": "b6f615de-de27-428b-b3aa-44a4ac9050b3",
   "metadata": {},
   "outputs": [
    {
     "data": {
      "text/plain": [
       "'C:\\\\Users\\\\benja\\\\1.SpringBoard\\\\Github_Repos\\\\Arsenal_Sentiment_Analysis\\\\Notebooks'"
      ]
     },
     "execution_count": 3,
     "metadata": {},
     "output_type": "execute_result"
    }
   ],
   "source": [
    "pwd"
   ]
  },
  {
   "cell_type": "code",
   "execution_count": 4,
   "id": "6846c9c1-5e72-45b7-91e1-3d72174015b9",
   "metadata": {},
   "outputs": [],
   "source": [
    "## Import Functions from pandas module.\n",
    "import sys\n",
    "sys.path.insert(1, './../../Analysis_Functions_For_Pandas')\n",
    "from functions import (preview_data,\n",
    "                       get_missing_counts,\n",
    "                       get_value_counts,\n",
    "                       get_unique_column_count,\n",
    "                       get_datetimes)   "
   ]
  },
  {
   "cell_type": "code",
   "execution_count": 5,
   "id": "54ea36e0-b50b-4570-90fb-4984446be630",
   "metadata": {},
   "outputs": [],
   "source": [
    "## Load the Data\n",
    "df = pd.read_csv('.\\..\\Data\\Finalized_DataFrame_All_Data.csv')"
   ]
  },
  {
   "cell_type": "markdown",
   "id": "6a74a742-57e7-4bd5-a57e-ed59020f0b87",
   "metadata": {},
   "source": [
    "## I. Data Exploration and Data Wrangling"
   ]
  },
  {
   "cell_type": "code",
   "execution_count": 6,
   "id": "2e90e6cd-a959-46e2-9880-3c4993f69228",
   "metadata": {},
   "outputs": [
    {
     "name": "stdout",
     "output_type": "stream",
     "text": [
      "First Five Rows of Data: \n",
      "\n"
     ]
    },
    {
     "data": {
      "text/html": [
       "<div>\n",
       "<style scoped>\n",
       "    .dataframe tbody tr th:only-of-type {\n",
       "        vertical-align: middle;\n",
       "    }\n",
       "\n",
       "    .dataframe tbody tr th {\n",
       "        vertical-align: top;\n",
       "    }\n",
       "\n",
       "    .dataframe thead th {\n",
       "        text-align: right;\n",
       "    }\n",
       "</style>\n",
       "<table border=\"1\" class=\"dataframe\">\n",
       "  <thead>\n",
       "    <tr style=\"text-align: right;\">\n",
       "      <th></th>\n",
       "      <th>Unnamed: 0</th>\n",
       "      <th>Query</th>\n",
       "      <th>Date</th>\n",
       "      <th>User</th>\n",
       "      <th>Tweet</th>\n",
       "      <th>TweetLikes</th>\n",
       "      <th>TweetReplies</th>\n",
       "      <th>RetweetCount</th>\n",
       "      <th>Result</th>\n",
       "      <th>Team</th>\n",
       "    </tr>\n",
       "  </thead>\n",
       "  <tbody>\n",
       "    <tr>\n",
       "      <th>0</th>\n",
       "      <td>0</td>\n",
       "      <td>Arsenal until:2022-04-23</td>\n",
       "      <td>2022-04-22 23:59:56+00:00</td>\n",
       "      <td>RoweThings</td>\n",
       "      <td>Can’t seem to find any serious buyers tonight for the game, so going to give one away (well not exactly) Xbox one new edition players get the chance to play me Arsenal Vs United on fifa and if you win the ticket is yours. No money. No scam involved #ARSMUN @arsenaltickets9 #scam</td>\n",
       "      <td>0</td>\n",
       "      <td>3</td>\n",
       "      <td>0</td>\n",
       "      <td>1</td>\n",
       "      <td>Arsenal</td>\n",
       "    </tr>\n",
       "    <tr>\n",
       "      <th>1</th>\n",
       "      <td>1</td>\n",
       "      <td>Arsenal until:2022-04-23</td>\n",
       "      <td>2022-04-22 23:59:54+00:00</td>\n",
       "      <td>Ancurancuran01</td>\n",
       "      <td>Gabsus solusi masalah striker Arsenal kah?? https://t.co/x7KYqk0pYJ</td>\n",
       "      <td>0</td>\n",
       "      <td>0</td>\n",
       "      <td>0</td>\n",
       "      <td>1</td>\n",
       "      <td>Arsenal</td>\n",
       "    </tr>\n",
       "    <tr>\n",
       "      <th>2</th>\n",
       "      <td>2</td>\n",
       "      <td>Arsenal until:2022-04-23</td>\n",
       "      <td>2022-04-22 23:59:54+00:00</td>\n",
       "      <td>celsky07</td>\n",
       "      <td>@el3estuvodemas @m_delprado_7 @agus____1974 @jachaci3 @DiarioOle Agregar que Arsenal venía fuerte con el Papu Gómez...se habían chingado en semifinales a River Plate. De cualquier forma, vencer a Grondona estaba difícil.</td>\n",
       "      <td>1</td>\n",
       "      <td>1</td>\n",
       "      <td>0</td>\n",
       "      <td>1</td>\n",
       "      <td>Arsenal</td>\n",
       "    </tr>\n",
       "    <tr>\n",
       "      <th>3</th>\n",
       "      <td>3</td>\n",
       "      <td>Arsenal until:2022-04-23</td>\n",
       "      <td>2022-04-22 23:59:53+00:00</td>\n",
       "      <td>fachry4</td>\n",
       "      <td>Payah nih yang ngancem bom. Jadi ga maen dah dia pas lawan Arsenal https://t.co/gxvokwP5ye</td>\n",
       "      <td>0</td>\n",
       "      <td>0</td>\n",
       "      <td>0</td>\n",
       "      <td>1</td>\n",
       "      <td>Arsenal</td>\n",
       "    </tr>\n",
       "    <tr>\n",
       "      <th>4</th>\n",
       "      <td>4</td>\n",
       "      <td>Arsenal until:2022-04-23</td>\n",
       "      <td>2022-04-22 23:59:51+00:00</td>\n",
       "      <td>GunnersDXB</td>\n",
       "      <td>If this happens the arsenal are acc back. https://t.co/SLMr1EZtnb</td>\n",
       "      <td>1</td>\n",
       "      <td>0</td>\n",
       "      <td>0</td>\n",
       "      <td>1</td>\n",
       "      <td>Arsenal</td>\n",
       "    </tr>\n",
       "  </tbody>\n",
       "</table>\n",
       "</div>"
      ],
      "text/plain": [
       "   Unnamed: 0                     Query                       Date  \\\n",
       "0  0           Arsenal until:2022-04-23  2022-04-22 23:59:56+00:00   \n",
       "1  1           Arsenal until:2022-04-23  2022-04-22 23:59:54+00:00   \n",
       "2  2           Arsenal until:2022-04-23  2022-04-22 23:59:54+00:00   \n",
       "3  3           Arsenal until:2022-04-23  2022-04-22 23:59:53+00:00   \n",
       "4  4           Arsenal until:2022-04-23  2022-04-22 23:59:51+00:00   \n",
       "\n",
       "             User  \\\n",
       "0  RoweThings       \n",
       "1  Ancurancuran01   \n",
       "2  celsky07         \n",
       "3  fachry4          \n",
       "4  GunnersDXB       \n",
       "\n",
       "                                                                                                                                                                                                                                                                                     Tweet  \\\n",
       "0  Can’t seem to find any serious buyers tonight for the game, so going to give one away (well not exactly) Xbox one new edition players get the chance to play me Arsenal Vs United on fifa and if you win the ticket is yours. No money. No scam involved #ARSMUN @arsenaltickets9 #scam   \n",
       "1  Gabsus solusi masalah striker Arsenal kah?? https://t.co/x7KYqk0pYJ                                                                                                                                                                                                                       \n",
       "2  @el3estuvodemas @m_delprado_7 @agus____1974 @jachaci3 @DiarioOle Agregar que Arsenal venía fuerte con el Papu Gómez...se habían chingado en semifinales a River Plate. De cualquier forma, vencer a Grondona estaba difícil.                                                              \n",
       "3  Payah nih yang ngancem bom. Jadi ga maen dah dia pas lawan Arsenal https://t.co/gxvokwP5ye                                                                                                                                                                                                \n",
       "4  If this happens the arsenal are acc back. https://t.co/SLMr1EZtnb                                                                                                                                                                                                                         \n",
       "\n",
       "   TweetLikes  TweetReplies  RetweetCount  Result     Team  \n",
       "0  0           3             0             1       Arsenal  \n",
       "1  0           0             0             1       Arsenal  \n",
       "2  1           1             0             1       Arsenal  \n",
       "3  0           0             0             1       Arsenal  \n",
       "4  1           0             0             1       Arsenal  "
      ]
     },
     "metadata": {},
     "output_type": "display_data"
    },
    {
     "name": "stdout",
     "output_type": "stream",
     "text": [
      "\n",
      " Shape: \n",
      "\n",
      "(370000, 10)\n",
      "\n",
      " Info: \n",
      "\n",
      "<class 'pandas.core.frame.DataFrame'>\n",
      "RangeIndex: 370000 entries, 0 to 369999\n",
      "Data columns (total 10 columns):\n",
      " #   Column        Non-Null Count   Dtype \n",
      "---  ------        --------------   ----- \n",
      " 0   Unnamed: 0    370000 non-null  int64 \n",
      " 1   Query         370000 non-null  object\n",
      " 2   Date          370000 non-null  object\n",
      " 3   User          370000 non-null  object\n",
      " 4   Tweet         370000 non-null  object\n",
      " 5   TweetLikes    370000 non-null  int64 \n",
      " 6   TweetReplies  370000 non-null  int64 \n",
      " 7   RetweetCount  370000 non-null  int64 \n",
      " 8   Result        370000 non-null  int64 \n",
      " 9   Team          370000 non-null  object\n",
      "dtypes: int64(5), object(5)\n",
      "memory usage: 28.2+ MB\n",
      "None\n"
     ]
    }
   ],
   "source": [
    "## Start by previewing the data:\n",
    "preview_data(df)"
   ]
  },
  {
   "cell_type": "code",
   "execution_count": 7,
   "id": "765bb1cf-7460-4db7-ab64-d0a4da5a8505",
   "metadata": {},
   "outputs": [
    {
     "name": "stdout",
     "output_type": "stream",
     "text": [
      "Missing Value Percentages by Column: \n",
      "\n",
      "Unnamed: 0 -----> 0 -----> 0.0%\n",
      "Query -----> 0 -----> 0.0%\n",
      "Date -----> 0 -----> 0.0%\n",
      "User -----> 0 -----> 0.0%\n",
      "Tweet -----> 0 -----> 0.0%\n",
      "TweetLikes -----> 0 -----> 0.0%\n",
      "TweetReplies -----> 0 -----> 0.0%\n",
      "RetweetCount -----> 0 -----> 0.0%\n",
      "Result -----> 0 -----> 0.0%\n",
      "Team -----> 0 -----> 0.0%\n"
     ]
    }
   ],
   "source": [
    "## Get the missing values\n",
    "get_missing_counts(df)"
   ]
  },
  {
   "cell_type": "code",
   "execution_count": 8,
   "id": "b46db4e3-5bd6-4798-a170-267bbed2ce39",
   "metadata": {},
   "outputs": [
    {
     "name": "stdout",
     "output_type": "stream",
     "text": [
      "Date Ranges: 2017-08-10 22:45:01+00:00 -- 2022-04-22 23:59:56+00:00\n"
     ]
    }
   ],
   "source": [
    "## Converts date to datetime. \n",
    "\n",
    "# Fix this --> get_datetimes(df,'Date',['Date'])\n",
    "df['Date'] = df['Date'].apply(pd.to_datetime)\n",
    "print('Date Ranges: {} -- {}'.format(df['Date'].min(), df['Date'].max()))"
   ]
  },
  {
   "cell_type": "markdown",
   "id": "164266bb-1bf6-436f-a0b3-381269d806ac",
   "metadata": {},
   "source": [
    "Ok, so the date ranges are between 03-29-22 and 4-13-22, so the 500,000 tweets about Arsenal are all in a two week period. \n",
    "<br> In that two week period, Arsenal were coming out of the international break and played two games which they both lost: \n",
    "- **Crystal Palace** -- *04-04-22*  \n",
    "- **Brighton & Holvion** -- *04-09-22* "
   ]
  },
  {
   "cell_type": "code",
   "execution_count": 9,
   "id": "1aa363bf-0d9b-444b-bc79-7625256502c8",
   "metadata": {},
   "outputs": [
    {
     "name": "stdout",
     "output_type": "stream",
     "text": [
      "Unique values in each object column: \n",
      "\n",
      "Query: 370\n",
      "User: 200703\n",
      "Tweet: 363860\n",
      "Team: 2\n"
     ]
    }
   ],
   "source": [
    "## Get unique values in each column: \n",
    "get_unique_column_count(df)"
   ]
  },
  {
   "cell_type": "markdown",
   "id": "cccba0b7-98c9-41ad-949d-6d2daf571015",
   "metadata": {},
   "source": [
    "Looking at this, we have a little more than twice as many tweets as users. "
   ]
  },
  {
   "cell_type": "code",
   "execution_count": 10,
   "id": "b9aaabb7-9b51-4fe5-931a-5dde51fdef21",
   "metadata": {},
   "outputs": [
    {
     "name": "stdout",
     "output_type": "stream",
     "text": [
      "Unique values in each object column: \n",
      "\n",
      "Query\n",
      "Arsenal until:2022-04-23      1000\n",
      "Arsenal until:2019-02-09      1000\n",
      "Arsenal until:2019-01-01      1000\n",
      "Arsenal until:2019-01-12      1000\n",
      "Tottenham until:2019-01-13    1000\n",
      "                              ... \n",
      "Tottenham until:2020-12-06    1000\n",
      "Arsenal until:2020-12-06      1000\n",
      "Tottenham until:2020-12-13    1000\n",
      "Arsenal until:2020-12-13      1000\n",
      "Arsenal until:2017-08-11      1000\n",
      "Name: Query, Length: 370, dtype: int64{}\n",
      "\n",
      "\n",
      "User\n",
      "SpursNewsApp       1010\n",
      "TottenhamNews      992 \n",
      "weatherN15         940 \n",
      "AlertsHotspur      842 \n",
      "spursnewsonly      653 \n",
      "                  ...  \n",
      "Ali66289721        1   \n",
      "Melfranck5         1   \n",
      "lucio_mendoza18    1   \n",
      "josemarm_          1   \n",
      "Chiedozielam       1   \n",
      "Name: User, Length: 200703, dtype: int64{}\n",
      "\n",
      "\n",
      "Tweet\n",
      "Klub Lokal Indonesia, Niac Mitra Mengalahkan   Arsenal 2-0 pada 16 Juni 1983 di Surabaya.                                                                                                                                                                                               154\n",
      "@SpursOfficial @WilliamHill Jesus Perez                                                                                                                                                                                                                                                 133\n",
      "@Arsenal 3                                                                                                                                                                                                                                                                              72 \n",
      "Tottenham have collected just 3 points from a possible 21 against teams in the top 8                                                                                                                                                                                                    69 \n",
      "[READY STOCK] KAOS ARSENAL GOLD | SIZE M-XL | HARGA 80K | HUB 085726803784 https://t.co/yNyMQ9BQY3                                                                                                                                                                                      63 \n",
      "                                                                                                                                                                                                                                                                                        .. \n",
      "Es para hacerse mirar las probabilidades de derrota con Marcelo. 10 derrotas en los diez que ha sido titular en la segunda etapa de Zidane. Obviamente no sólo es culpa suya pero es igual de cierto que su etapa aquí está más que terminada. Reguilón en el Tottenham, por cierto.    1  \n",
      "@Xaadim_ @Hamid_Hamid_MT @PTijany @SpursOfficial 🤣🤣🤣🤣🤣 siboumeu won                                                                                                                                                                                                                     1  \n",
      "Jose Mourinho: Tottenham don't fear anyone ahead of Chelsea clash\\n#CFC #KTBFFH\\nhttps://t.co/QSdz1Xajbc                                                                                                                                                                                1  \n",
      "@AFCMax9 honestly would rather Tottenham humble Chels fans, disgusting that they think Lampard is gonna lead them to a prem title, not to mention them chatting that Chilwell and Reece are world class outside backs                                                                   1  \n",
      "@futbolporsky @Arsenal @LCFC \\nWelcome back @premierleague                                                                                                                                                                                                                              1  \n",
      "Name: Tweet, Length: 363860, dtype: int64{}\n",
      "\n",
      "\n",
      "Team\n",
      "Arsenal      185000\n",
      "Tottenham    185000\n",
      "Name: Team, dtype: int64{}\n",
      "\n",
      "\n"
     ]
    }
   ],
   "source": [
    "## Get Values\n",
    "get_value_counts(df)"
   ]
  },
  {
   "cell_type": "code",
   "execution_count": 11,
   "id": "ce7f814f-9c8e-4234-8d14-16d0ccafc837",
   "metadata": {},
   "outputs": [
    {
     "data": {
      "text/html": [
       "<div>\n",
       "<style scoped>\n",
       "    .dataframe tbody tr th:only-of-type {\n",
       "        vertical-align: middle;\n",
       "    }\n",
       "\n",
       "    .dataframe tbody tr th {\n",
       "        vertical-align: top;\n",
       "    }\n",
       "\n",
       "    .dataframe thead th {\n",
       "        text-align: right;\n",
       "    }\n",
       "</style>\n",
       "<table border=\"1\" class=\"dataframe\">\n",
       "  <thead>\n",
       "    <tr style=\"text-align: right;\">\n",
       "      <th></th>\n",
       "      <th>Unnamed: 0</th>\n",
       "      <th>TweetLikes</th>\n",
       "      <th>TweetReplies</th>\n",
       "      <th>RetweetCount</th>\n",
       "      <th>Result</th>\n",
       "    </tr>\n",
       "  </thead>\n",
       "  <tbody>\n",
       "    <tr>\n",
       "      <th>count</th>\n",
       "      <td>370000.000000</td>\n",
       "      <td>370000.000000</td>\n",
       "      <td>370000.000000</td>\n",
       "      <td>370000.000000</td>\n",
       "      <td>370000.000000</td>\n",
       "    </tr>\n",
       "    <tr>\n",
       "      <th>mean</th>\n",
       "      <td>184999.500000</td>\n",
       "      <td>11.767422</td>\n",
       "      <td>0.707508</td>\n",
       "      <td>1.327559</td>\n",
       "      <td>0.510811</td>\n",
       "    </tr>\n",
       "    <tr>\n",
       "      <th>std</th>\n",
       "      <td>106809.944138</td>\n",
       "      <td>207.662080</td>\n",
       "      <td>7.013142</td>\n",
       "      <td>26.875180</td>\n",
       "      <td>0.499884</td>\n",
       "    </tr>\n",
       "    <tr>\n",
       "      <th>min</th>\n",
       "      <td>0.000000</td>\n",
       "      <td>0.000000</td>\n",
       "      <td>0.000000</td>\n",
       "      <td>0.000000</td>\n",
       "      <td>0.000000</td>\n",
       "    </tr>\n",
       "    <tr>\n",
       "      <th>25%</th>\n",
       "      <td>92499.750000</td>\n",
       "      <td>0.000000</td>\n",
       "      <td>0.000000</td>\n",
       "      <td>0.000000</td>\n",
       "      <td>0.000000</td>\n",
       "    </tr>\n",
       "    <tr>\n",
       "      <th>50%</th>\n",
       "      <td>184999.500000</td>\n",
       "      <td>0.000000</td>\n",
       "      <td>0.000000</td>\n",
       "      <td>0.000000</td>\n",
       "      <td>1.000000</td>\n",
       "    </tr>\n",
       "    <tr>\n",
       "      <th>75%</th>\n",
       "      <td>277499.250000</td>\n",
       "      <td>1.000000</td>\n",
       "      <td>1.000000</td>\n",
       "      <td>0.000000</td>\n",
       "      <td>1.000000</td>\n",
       "    </tr>\n",
       "    <tr>\n",
       "      <th>max</th>\n",
       "      <td>369999.000000</td>\n",
       "      <td>24743.000000</td>\n",
       "      <td>1318.000000</td>\n",
       "      <td>4633.000000</td>\n",
       "      <td>1.000000</td>\n",
       "    </tr>\n",
       "  </tbody>\n",
       "</table>\n",
       "</div>"
      ],
      "text/plain": [
       "          Unnamed: 0     TweetLikes   TweetReplies   RetweetCount  \\\n",
       "count  370000.000000  370000.000000  370000.000000  370000.000000   \n",
       "mean   184999.500000  11.767422      0.707508       1.327559        \n",
       "std    106809.944138  207.662080     7.013142       26.875180       \n",
       "min    0.000000       0.000000       0.000000       0.000000        \n",
       "25%    92499.750000   0.000000       0.000000       0.000000        \n",
       "50%    184999.500000  0.000000       0.000000       0.000000        \n",
       "75%    277499.250000  1.000000       1.000000       0.000000        \n",
       "max    369999.000000  24743.000000   1318.000000    4633.000000     \n",
       "\n",
       "              Result  \n",
       "count  370000.000000  \n",
       "mean   0.510811       \n",
       "std    0.499884       \n",
       "min    0.000000       \n",
       "25%    0.000000       \n",
       "50%    1.000000       \n",
       "75%    1.000000       \n",
       "max    1.000000       "
      ]
     },
     "execution_count": 11,
     "metadata": {},
     "output_type": "execute_result"
    }
   ],
   "source": [
    "## We can look at the distribution of our tweets.\n",
    "df.describe()"
   ]
  },
  {
   "cell_type": "markdown",
   "id": "4917a36b-a911-4edb-aefd-82b53c4d3f30",
   "metadata": {},
   "source": [
    "## II. Exploratory Data Analysis"
   ]
  },
  {
   "cell_type": "markdown",
   "id": "bdb68188-9681-45eb-9b06-d75d09f04801",
   "metadata": {},
   "source": [
    "We can look at the distribution of tweets."
   ]
  },
  {
   "cell_type": "code",
   "execution_count": 12,
   "id": "8bfb4092-c4f3-49a3-a235-fc17a3ad236e",
   "metadata": {},
   "outputs": [
    {
     "data": {
      "image/png": "[encoded data removed]",
      "text/plain": [
       "<Figure size 1800x1080 with 2 Axes>"
      ]
     },
     "metadata": {
      "needs_background": "light"
     },
     "output_type": "display_data"
    },
    {
     "data": {
      "text/plain": [
       "<Figure size 1440x576 with 0 Axes>"
      ]
     },
     "metadata": {},
     "output_type": "display_data"
    }
   ],
   "source": [
    "## We create a time-series Dataframe and resample by day.\n",
    "time_df = df[['Date','User']]\n",
    "time_df['Date'] = pd.to_datetime(time_df['Date'])\n",
    "time_df['Tweet'] = 1\n",
    "time_df.drop(columns='User', inplace=True)\n",
    "time_df.set_index('Date', inplace = True)\n",
    "time_df = time_df.resample('d').sum()\n",
    "time_df\n",
    "\n",
    "## We plot the number of tweets during the time period.\n",
    "fig, axes = plt.subplots(2, figsize=(25,15))\n",
    "fig.suptitle('Distribution of time', fontsize =40)\n",
    "fig.subplots_adjust(hspace=1.2)\n",
    "plt.figure(figsize=(20,8))\n",
    "\n",
    "axes[0].plot(time_df, label = '# of tweets')\n",
    "axes[0].set_title('Evolution of Tweets about Arsenal for period {} - {}'.format(df['Date'].min(), df['Date'].max()), fontsize = 20, pad =20)\n",
    "axes[0].set_xlabel('Day', fontsize = 18)\n",
    "axes[0].set_ylabel('Total Tweets', fontsize = 18)\n",
    "axes[0].legend(loc='best')\n",
    "plt.show()"
   ]
  },
  {
   "cell_type": "markdown",
   "id": "c73568e0-5892-48ca-b38c-a02bf4952125",
   "metadata": {},
   "source": [
    "Let's look at a preview of the 10 most liked tweets. "
   ]
  },
  {
   "cell_type": "code",
   "execution_count": 13,
   "id": "03aa32df-abf3-4d7e-a63d-e75858d9575a",
   "metadata": {},
   "outputs": [
    {
     "data": {
      "text/html": [
       "<div>\n",
       "<style scoped>\n",
       "    .dataframe tbody tr th:only-of-type {\n",
       "        vertical-align: middle;\n",
       "    }\n",
       "\n",
       "    .dataframe tbody tr th {\n",
       "        vertical-align: top;\n",
       "    }\n",
       "\n",
       "    .dataframe thead th {\n",
       "        text-align: right;\n",
       "    }\n",
       "</style>\n",
       "<table border=\"1\" class=\"dataframe\">\n",
       "  <thead>\n",
       "    <tr style=\"text-align: right;\">\n",
       "      <th></th>\n",
       "      <th>Tweet</th>\n",
       "      <th>Date</th>\n",
       "      <th>TweetLikes</th>\n",
       "      <th>User</th>\n",
       "    </tr>\n",
       "  </thead>\n",
       "  <tbody>\n",
       "    <tr>\n",
       "      <th>126448</th>\n",
       "      <td>🇪🇸 Back in the @SeFutbol squad\\n\\nProud of you, @HectorBellerin 🔴 https://t.co/vANXWxnO87</td>\n",
       "      <td>2020-11-07 23:06:00+00:00</td>\n",
       "      <td>24743</td>\n",
       "      <td>Arsenal</td>\n",
       "    </tr>\n",
       "    <tr>\n",
       "      <th>33747</th>\n",
       "      <td>Breaking the i̶n̶t̶e̶r̶n̶e̶t̶ web 🕸\\n\\n🕷 @SpiderManMovie https://t.co/0CTs0XQqEi</td>\n",
       "      <td>2021-12-18 21:00:07+00:00</td>\n",
       "      <td>24505</td>\n",
       "      <td>SpursOfficial</td>\n",
       "    </tr>\n",
       "    <tr>\n",
       "      <th>123184</th>\n",
       "      <td>Lampard's Chelsea haven't lost in 10 games.\\n\\nMourinho's Tottenham haven't lost in 8.\\n\\nTomorrow, they meet at Stamford Bridge ⚔️ https://t.co/vRm8X6F3IM</td>\n",
       "      <td>2020-11-28 23:05:24+00:00</td>\n",
       "      <td>21680</td>\n",
       "      <td>brfootball</td>\n",
       "    </tr>\n",
       "    <tr>\n",
       "      <th>292857</th>\n",
       "      <td>Looking forward to meeting you and, above all, showing on the pitch we are @Arsenal COYG! https://t.co/pq4wxpYGQ6</td>\n",
       "      <td>2018-08-11 22:42:36+00:00</td>\n",
       "      <td>21555</td>\n",
       "      <td>UnaiEmery_</td>\n",
       "    </tr>\n",
       "    <tr>\n",
       "      <th>235513</th>\n",
       "      <td>O novo estádio do Tottenham é lindo! https://t.co/iymn4f1tmo</td>\n",
       "      <td>2019-03-08 21:36:20+00:00</td>\n",
       "      <td>21328</td>\n",
       "      <td>mundodabola</td>\n",
       "    </tr>\n",
       "    <tr>\n",
       "      <th>83879</th>\n",
       "      <td>Arteta: “I speak with Ødegaard every day. I see his face, his body language: he seems really happy here at Arsenal. His contract here is until the end of the season. What we have to do is try to make him perform, develop and be as happy as he can be”. @ChrisWheatley_ ⚪️🔴 #AFC</td>\n",
       "      <td>2021-04-02 22:11:00+00:00</td>\n",
       "      <td>20329</td>\n",
       "      <td>FabrizioRomano</td>\n",
       "    </tr>\n",
       "    <tr>\n",
       "      <th>127469</th>\n",
       "      <td>💙 @alexmorgan13 💙 \\n\\n#THFC ⚪️ #COYS https://t.co/UUR1HEAeGJ</td>\n",
       "      <td>2020-11-07 21:34:25+00:00</td>\n",
       "      <td>18702</td>\n",
       "      <td>SpursOfficial</td>\n",
       "    </tr>\n",
       "    <tr>\n",
       "      <th>108987</th>\n",
       "      <td>🇰🇷 📸 Sonny's been a 𝙗𝙖𝙡𝙡𝙚𝙧 since day one!\\n\\n#THFC ⚪️ #COYS https://t.co/68fzXL60CL</td>\n",
       "      <td>2021-01-12 21:41:00+00:00</td>\n",
       "      <td>18611</td>\n",
       "      <td>SpursOfficial</td>\n",
       "    </tr>\n",
       "    <tr>\n",
       "      <th>31570</th>\n",
       "      <td>Mikel Arteta on Arsenal signings for January: “If you can tweak what you need to in that period, which is not easy, it would be really helpful”. 🔴 #AFC @NickAmes82 \\n\\n“We are working on that to see the necessities we can have, and whether we can find the right solutions to that”.</td>\n",
       "      <td>2021-12-25 22:45:35+00:00</td>\n",
       "      <td>16963</td>\n",
       "      <td>FabrizioRomano</td>\n",
       "    </tr>\n",
       "    <tr>\n",
       "      <th>202369</th>\n",
       "      <td>Keep grinding, @LacazetteAlex 👊\\n\\nWe can't wait to have you back in contention ❤️ https://t.co/XbRUbD4NMk</td>\n",
       "      <td>2019-10-05 23:04:01+00:00</td>\n",
       "      <td>15984</td>\n",
       "      <td>Arsenal</td>\n",
       "    </tr>\n",
       "  </tbody>\n",
       "</table>\n",
       "</div>"
      ],
      "text/plain": [
       "                                                                                                                                                                                                                                                                                            Tweet  \\\n",
       "126448  🇪🇸 Back in the @SeFutbol squad\\n\\nProud of you, @HectorBellerin 🔴 https://t.co/vANXWxnO87                                                                                                                                                                                                   \n",
       "33747   Breaking the i̶n̶t̶e̶r̶n̶e̶t̶ web 🕸\\n\\n🕷 @SpiderManMovie https://t.co/0CTs0XQqEi                                                                                                                                                                                                            \n",
       "123184  Lampard's Chelsea haven't lost in 10 games.\\n\\nMourinho's Tottenham haven't lost in 8.\\n\\nTomorrow, they meet at Stamford Bridge ⚔️ https://t.co/vRm8X6F3IM                                                                                                                                 \n",
       "292857  Looking forward to meeting you and, above all, showing on the pitch we are @Arsenal COYG! https://t.co/pq4wxpYGQ6                                                                                                                                                                           \n",
       "235513  O novo estádio do Tottenham é lindo! https://t.co/iymn4f1tmo                                                                                                                                                                                                                                \n",
       "83879   Arteta: “I speak with Ødegaard every day. I see his face, his body language: he seems really happy here at Arsenal. His contract here is until the end of the season. What we have to do is try to make him perform, develop and be as happy as he can be”. @ChrisWheatley_ ⚪️🔴 #AFC        \n",
       "127469  💙 @alexmorgan13 💙 \\n\\n#THFC ⚪️ #COYS https://t.co/UUR1HEAeGJ                                                                                                                                                                                                                                \n",
       "108987  🇰🇷 📸 Sonny's been a 𝙗𝙖𝙡𝙡𝙚𝙧 since day one!\\n\\n#THFC ⚪️ #COYS https://t.co/68fzXL60CL                                                                                                                                                                                                         \n",
       "31570   Mikel Arteta on Arsenal signings for January: “If you can tweak what you need to in that period, which is not easy, it would be really helpful”. 🔴 #AFC @NickAmes82 \\n\\n“We are working on that to see the necessities we can have, and whether we can find the right solutions to that”.   \n",
       "202369  Keep grinding, @LacazetteAlex 👊\\n\\nWe can't wait to have you back in contention ❤️ https://t.co/XbRUbD4NMk                                                                                                                                                                                  \n",
       "\n",
       "                            Date  TweetLikes            User  \n",
       "126448 2020-11-07 23:06:00+00:00  24743       Arsenal         \n",
       "33747  2021-12-18 21:00:07+00:00  24505       SpursOfficial   \n",
       "123184 2020-11-28 23:05:24+00:00  21680       brfootball      \n",
       "292857 2018-08-11 22:42:36+00:00  21555       UnaiEmery_      \n",
       "235513 2019-03-08 21:36:20+00:00  21328       mundodabola     \n",
       "83879  2021-04-02 22:11:00+00:00  20329       FabrizioRomano  \n",
       "127469 2020-11-07 21:34:25+00:00  18702       SpursOfficial   \n",
       "108987 2021-01-12 21:41:00+00:00  18611       SpursOfficial   \n",
       "31570  2021-12-25 22:45:35+00:00  16963       FabrizioRomano  \n",
       "202369 2019-10-05 23:04:01+00:00  15984       Arsenal         "
      ]
     },
     "execution_count": 13,
     "metadata": {},
     "output_type": "execute_result"
    }
   ],
   "source": [
    "## Let's look at the 10 most popular tweets in the dataset.\n",
    "df[['Tweet','Date','TweetLikes','User']].sort_values('TweetLikes', ascending =False).head(10)"
   ]
  },
  {
   "cell_type": "code",
   "execution_count": null,
   "id": "f88ececc-4004-48d5-88ec-69b598e52d92",
   "metadata": {},
   "outputs": [],
   "source": []
  },
  {
   "cell_type": "markdown",
   "id": "201bc6a3-288a-4e55-9b82-efa4f2d9a666",
   "metadata": {},
   "source": [
    "## III. Preprocessing and Modeling"
   ]
  },
  {
   "cell_type": "code",
   "execution_count": null,
   "id": "0e8aea71-991c-4280-a7f5-0de2e8e09ff0",
   "metadata": {},
   "outputs": [],
   "source": []
  },
  {
   "cell_type": "markdown",
   "id": "9497d496-71ec-4971-b1fe-eaf9798b5fe1",
   "metadata": {},
   "source": [
    "## IV. Conclusions"
   ]
  },
  {
   "cell_type": "code",
   "execution_count": null,
   "id": "aebdd746-23df-4834-8593-5744179fc60b",
   "metadata": {},
   "outputs": [],
   "source": []
  },
  {
   "cell_type": "code",
   "execution_count": null,
   "id": "00a6ff1c-2958-407e-b581-27ea15e09328",
   "metadata": {},
   "outputs": [],
   "source": []
  },
  {
   "cell_type": "code",
   "execution_count": null,
   "id": "d7959f14-e484-4329-9011-14f7cc0c39b2",
   "metadata": {},
   "outputs": [],
   "source": []
  },
  {
   "cell_type": "code",
   "execution_count": null,
   "id": "9524271e-bbc2-48aa-9b0f-7c71fe179cb0",
   "metadata": {},
   "outputs": [],
   "source": []
  }
 ],
 "metadata": {
  "kernelspec": {
   "display_name": "Python 3",
   "language": "python",
   "name": "python3"
  },
  "language_info": {
   "codemirror_mode": {
    "name": "ipython",
    "version": 3
   },
   "file_extension": ".py",
   "mimetype": "text/x-python",
   "name": "python",
   "nbconvert_exporter": "python",
   "pygments_lexer": "ipython3",
   "version": "3.9.12"
  }
 },
 "nbformat": 4,
 "nbformat_minor": 5
}
