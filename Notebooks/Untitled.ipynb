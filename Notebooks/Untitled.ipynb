{
 "cells": [
  {
   "cell_type": "code",
   "execution_count": 1,
   "id": "f37783bd-55da-4a1f-84c7-2d0d2c3cb263",
   "metadata": {},
   "outputs": [],
   "source": [
    "## Import Packages Necessary\n",
    "import pandas as pd\n",
    "import numpy as np\n",
    "import matplotlib.pyplot as plt\n",
    "import seaborn as sns\n",
    "\n",
    "from wordcloud import WordCloud\n",
    "import nltk\n",
    "from nltk.stem.porter import PorterStemmer\n",
    "import re\n",
    "\n",
    "from sklearn.model_selection import train_test_split\n",
    "from sklearn.linear_model import LogisticRegression\n",
    "from sklearn.metrics import f1_score, accuracy_score, plot_confusion_matrix,roc_auc_score,roc_curve\n",
    "\n",
    "## Import Functions from pandas module.\n",
    "import sys\n",
    "sys.path.insert(1, './../../Analysis_Functions_For_Pandas')\n",
    "from functions import (preview_data,\n",
    "                       get_missing_counts,\n",
    "                       get_value_counts,\n",
    "                       get_unique_column_count,\n",
    "                       get_datetimes,\n",
    "                       plot_roc_curves)  "
   ]
  },
  {
   "cell_type": "code",
   "execution_count": 2,
   "id": "956fb9d6-c6a0-4116-9bee-77ca39d7064b",
   "metadata": {},
   "outputs": [],
   "source": [
    "## Load the Data\n",
    "df = pd.read_csv('.\\..\\Data\\Finalized_DataFrame_All_Data_2_Anonymized.csv')"
   ]
  },
  {
   "cell_type": "code",
   "execution_count": 3,
   "id": "2bc2e6b9-a896-4314-9ea5-476ec1584445",
   "metadata": {},
   "outputs": [],
   "source": [
    "## Replace Punctuation\n",
    "df['Tweet_Cleaned'] = df['Tweet'].str.replace(\"[^a-zA-Z#]\",\" \")"
   ]
  },
  {
   "cell_type": "code",
   "execution_count": 4,
   "id": "7f937d74-beb1-44ad-8ee6-4acf38f0aedc",
   "metadata": {},
   "outputs": [],
   "source": [
    "## Further clean tweet by splitting words. \n",
    "df[\"clean_tweet\"] = df['Tweet_Cleaned'].apply(lambda x: \" \".join([w for w in x.split() if len(w) >3]))"
   ]
  },
  {
   "cell_type": "code",
   "execution_count": 5,
   "id": "884d34c3-20c0-4090-8ca9-bf710ebfae68",
   "metadata": {},
   "outputs": [
    {
     "data": {
      "text/html": [
       "<div>\n",
       "<style scoped>\n",
       "    .dataframe tbody tr th:only-of-type {\n",
       "        vertical-align: middle;\n",
       "    }\n",
       "\n",
       "    .dataframe tbody tr th {\n",
       "        vertical-align: top;\n",
       "    }\n",
       "\n",
       "    .dataframe thead th {\n",
       "        text-align: right;\n",
       "    }\n",
       "</style>\n",
       "<table border=\"1\" class=\"dataframe\">\n",
       "  <thead>\n",
       "    <tr style=\"text-align: right;\">\n",
       "      <th></th>\n",
       "      <th>Query2</th>\n",
       "      <th>Date</th>\n",
       "      <th>Username</th>\n",
       "      <th>Tweet</th>\n",
       "      <th>TweetLikes</th>\n",
       "      <th>TweetReplies</th>\n",
       "      <th>RetweetCount</th>\n",
       "      <th>Result</th>\n",
       "      <th>Team</th>\n",
       "      <th>Tweet_Cleaned</th>\n",
       "      <th>clean_tweet</th>\n",
       "    </tr>\n",
       "  </thead>\n",
       "  <tbody>\n",
       "    <tr>\n",
       "      <th>0</th>\n",
       "      <td>Arsenal until:2022-04-24</td>\n",
       "      <td>2022-04-23 23:59:47+00:00</td>\n",
       "      <td>Anonymous19203</td>\n",
       "      <td>@JackAFC01 @LUHG450 @1Thegameis Because you're...</td>\n",
       "      <td>1</td>\n",
       "      <td>1</td>\n",
       "      <td>0</td>\n",
       "      <td>1</td>\n",
       "      <td>Arsenal</td>\n",
       "      <td>JackAFC    LUHG      Thegameis Because you re...</td>\n",
       "      <td>JackAFC LUHG Thegameis Because arsenal have se...</td>\n",
       "    </tr>\n",
       "    <tr>\n",
       "      <th>1</th>\n",
       "      <td>Arsenal until:2022-04-24</td>\n",
       "      <td>2022-04-23 23:59:41+00:00</td>\n",
       "      <td>Anonymous123302</td>\n",
       "      <td>@arsenal_lady bei ihm werde ich einfach immer ...</td>\n",
       "      <td>1</td>\n",
       "      <td>0</td>\n",
       "      <td>0</td>\n",
       "      <td>1</td>\n",
       "      <td>Arsenal</td>\n",
       "      <td>arsenal lady bei ihm werde ich einfach immer ...</td>\n",
       "      <td>arsenal lady werde einfach immer schwach</td>\n",
       "    </tr>\n",
       "    <tr>\n",
       "      <th>2</th>\n",
       "      <td>Arsenal until:2022-04-24</td>\n",
       "      <td>2022-04-23 23:59:39+00:00</td>\n",
       "      <td>Anonymous134105</td>\n",
       "      <td>5 games to go\\n\\n5 cup finals \\n\\n5 games to U...</td>\n",
       "      <td>0</td>\n",
       "      <td>0</td>\n",
       "      <td>0</td>\n",
       "      <td>1</td>\n",
       "      <td>Arsenal</td>\n",
       "      <td>games to go    cup finals     games to UCL o...</td>\n",
       "      <td>games finals games either want European trips ...</td>\n",
       "    </tr>\n",
       "    <tr>\n",
       "      <th>3</th>\n",
       "      <td>Arsenal until:2022-04-24</td>\n",
       "      <td>2022-04-23 23:59:37+00:00</td>\n",
       "      <td>Anonymous112922</td>\n",
       "      <td>@Arsenal @HectorBellerin VAMOS @HectorBellerin...</td>\n",
       "      <td>18</td>\n",
       "      <td>0</td>\n",
       "      <td>0</td>\n",
       "      <td>1</td>\n",
       "      <td>Arsenal</td>\n",
       "      <td>Arsenal  HectorBellerin VAMOS  HectorBellerin...</td>\n",
       "      <td>Arsenal HectorBellerin VAMOS HectorBellerin Ev...</td>\n",
       "    </tr>\n",
       "    <tr>\n",
       "      <th>4</th>\n",
       "      <td>Arsenal until:2022-04-24</td>\n",
       "      <td>2022-04-23 23:59:32+00:00</td>\n",
       "      <td>Anonymous65885</td>\n",
       "      <td>@Cristiano Come to @Arsenal 🐐.. so many assist...</td>\n",
       "      <td>0</td>\n",
       "      <td>0</td>\n",
       "      <td>0</td>\n",
       "      <td>1</td>\n",
       "      <td>Arsenal</td>\n",
       "      <td>Cristiano Come to  Arsenal     so many assist...</td>\n",
       "      <td>Cristiano Come Arsenal many assists crosses wi...</td>\n",
       "    </tr>\n",
       "  </tbody>\n",
       "</table>\n",
       "</div>"
      ],
      "text/plain": [
       "                     Query2                       Date         Username  \\\n",
       "0  Arsenal until:2022-04-24  2022-04-23 23:59:47+00:00   Anonymous19203   \n",
       "1  Arsenal until:2022-04-24  2022-04-23 23:59:41+00:00  Anonymous123302   \n",
       "2  Arsenal until:2022-04-24  2022-04-23 23:59:39+00:00  Anonymous134105   \n",
       "3  Arsenal until:2022-04-24  2022-04-23 23:59:37+00:00  Anonymous112922   \n",
       "4  Arsenal until:2022-04-24  2022-04-23 23:59:32+00:00   Anonymous65885   \n",
       "\n",
       "                                               Tweet  TweetLikes  \\\n",
       "0  @JackAFC01 @LUHG450 @1Thegameis Because you're...           1   \n",
       "1  @arsenal_lady bei ihm werde ich einfach immer ...           1   \n",
       "2  5 games to go\\n\\n5 cup finals \\n\\n5 games to U...           0   \n",
       "3  @Arsenal @HectorBellerin VAMOS @HectorBellerin...          18   \n",
       "4  @Cristiano Come to @Arsenal 🐐.. so many assist...           0   \n",
       "\n",
       "   TweetReplies  RetweetCount  Result     Team  \\\n",
       "0             1             0       1  Arsenal   \n",
       "1             0             0       1  Arsenal   \n",
       "2             0             0       1  Arsenal   \n",
       "3             0             0       1  Arsenal   \n",
       "4             0             0       1  Arsenal   \n",
       "\n",
       "                                       Tweet_Cleaned  \\\n",
       "0   JackAFC    LUHG      Thegameis Because you re...   \n",
       "1   arsenal lady bei ihm werde ich einfach immer ...   \n",
       "2    games to go    cup finals     games to UCL o...   \n",
       "3   Arsenal  HectorBellerin VAMOS  HectorBellerin...   \n",
       "4   Cristiano Come to  Arsenal     so many assist...   \n",
       "\n",
       "                                         clean_tweet  \n",
       "0  JackAFC LUHG Thegameis Because arsenal have se...  \n",
       "1           arsenal lady werde einfach immer schwach  \n",
       "2  games finals games either want European trips ...  \n",
       "3  Arsenal HectorBellerin VAMOS HectorBellerin Ev...  \n",
       "4  Cristiano Come Arsenal many assists crosses wi...  "
      ]
     },
     "execution_count": 5,
     "metadata": {},
     "output_type": "execute_result"
    }
   ],
   "source": [
    "df.head()"
   ]
  },
  {
   "cell_type": "code",
   "execution_count": 7,
   "id": "4dfcdddc-5dae-4f86-b5cc-3c4e05fd712b",
   "metadata": {},
   "outputs": [],
   "source": [
    "import re\n",
    "\n",
    "def remove_usernames_links(tweet):\n",
    "    tweet = re.sub('@[^\\s]+','',tweet)\n",
    "    tweet = re.sub('http[^\\s]+','',tweet)\n",
    "    return tweet\n",
    "df['clean_tweet2'] = df['Tweet'].apply(remove_usernames_links)"
   ]
  },
  {
   "cell_type": "code",
   "execution_count": 8,
   "id": "c6097349-a988-4a0a-a38c-b797772c0e34",
   "metadata": {},
   "outputs": [],
   "source": [
    "simp = df[['Username','Result','clean_tweet2','Query2']]"
   ]
  },
  {
   "cell_type": "code",
   "execution_count": 9,
   "id": "3e735694-6ab8-4202-94d4-6e27192e8441",
   "metadata": {},
   "outputs": [
    {
     "name": "stderr",
     "output_type": "stream",
     "text": [
      "C:\\Users\\benja\\Anaconda3\\envs\\py37\\lib\\site-packages\\pandas\\core\\indexing.py:1743: SettingWithCopyWarning: \n",
      "A value is trying to be set on a copy of a slice from a DataFrame.\n",
      "Try using .loc[row_indexer,col_indexer] = value instead\n",
      "\n",
      "See the caveats in the documentation: https://pandas.pydata.org/pandas-docs/stable/user_guide/indexing.html#returning-a-view-versus-a-copy\n",
      "  isetter(ilocs[0], value)\n"
     ]
    }
   ],
   "source": [
    "simp.loc[:,\"Result\"] = simp.Result.replace(1,'Win').replace(0,'Loss/Tie')"
   ]
  },
  {
   "cell_type": "code",
   "execution_count": 10,
   "id": "06b177d2-0e7c-4062-9085-bd9e9ef7b907",
   "metadata": {},
   "outputs": [
    {
     "data": {
      "text/html": [
       "<div>\n",
       "<style scoped>\n",
       "    .dataframe tbody tr th:only-of-type {\n",
       "        vertical-align: middle;\n",
       "    }\n",
       "\n",
       "    .dataframe tbody tr th {\n",
       "        vertical-align: top;\n",
       "    }\n",
       "\n",
       "    .dataframe thead th {\n",
       "        text-align: right;\n",
       "    }\n",
       "</style>\n",
       "<table border=\"1\" class=\"dataframe\">\n",
       "  <thead>\n",
       "    <tr style=\"text-align: right;\">\n",
       "      <th></th>\n",
       "      <th>Username</th>\n",
       "      <th>Result</th>\n",
       "      <th>clean_tweet2</th>\n",
       "      <th>Query2</th>\n",
       "    </tr>\n",
       "  </thead>\n",
       "  <tbody>\n",
       "    <tr>\n",
       "      <th>0</th>\n",
       "      <td>Anonymous19203</td>\n",
       "      <td>Win</td>\n",
       "      <td>Because you're arsenal and you have no self...</td>\n",
       "      <td>Arsenal until:2022-04-24</td>\n",
       "    </tr>\n",
       "    <tr>\n",
       "      <th>1</th>\n",
       "      <td>Anonymous123302</td>\n",
       "      <td>Win</td>\n",
       "      <td>bei ihm werde ich einfach immer schwach</td>\n",
       "      <td>Arsenal until:2022-04-24</td>\n",
       "    </tr>\n",
       "    <tr>\n",
       "      <th>2</th>\n",
       "      <td>Anonymous134105</td>\n",
       "      <td>Win</td>\n",
       "      <td>5 games to go\\n\\n5 cup finals \\n\\n5 games to U...</td>\n",
       "      <td>Arsenal until:2022-04-24</td>\n",
       "    </tr>\n",
       "    <tr>\n",
       "      <th>3</th>\n",
       "      <td>Anonymous112922</td>\n",
       "      <td>Win</td>\n",
       "      <td>VAMOS  ! Even if you stay in Spain, you'll a...</td>\n",
       "      <td>Arsenal until:2022-04-24</td>\n",
       "    </tr>\n",
       "    <tr>\n",
       "      <th>4</th>\n",
       "      <td>Anonymous65885</td>\n",
       "      <td>Win</td>\n",
       "      <td>Come to  🐐.. so many assists and crosses with...</td>\n",
       "      <td>Arsenal until:2022-04-24</td>\n",
       "    </tr>\n",
       "  </tbody>\n",
       "</table>\n",
       "</div>"
      ],
      "text/plain": [
       "          Username Result                                       clean_tweet2  \\\n",
       "0   Anonymous19203    Win     Because you're arsenal and you have no self...   \n",
       "1  Anonymous123302    Win            bei ihm werde ich einfach immer schwach   \n",
       "2  Anonymous134105    Win  5 games to go\\n\\n5 cup finals \\n\\n5 games to U...   \n",
       "3  Anonymous112922    Win    VAMOS  ! Even if you stay in Spain, you'll a...   \n",
       "4   Anonymous65885    Win   Come to  🐐.. so many assists and crosses with...   \n",
       "\n",
       "                     Query2  \n",
       "0  Arsenal until:2022-04-24  \n",
       "1  Arsenal until:2022-04-24  \n",
       "2  Arsenal until:2022-04-24  \n",
       "3  Arsenal until:2022-04-24  \n",
       "4  Arsenal until:2022-04-24  "
      ]
     },
     "execution_count": 10,
     "metadata": {},
     "output_type": "execute_result"
    }
   ],
   "source": [
    "simp.head()"
   ]
  },
  {
   "cell_type": "code",
   "execution_count": 11,
   "id": "6f856b1e-4b6f-4608-8928-5e15f0f6a606",
   "metadata": {},
   "outputs": [
    {
     "name": "stdout",
     "output_type": "stream",
     "text": [
      "Number of tweets: 370000\n",
      "Number of users: 200163\n",
      "Number of games: 370\n"
     ]
    }
   ],
   "source": [
    "n_tweets = len(simp)\n",
    "n_users = simp.Username.unique().size\n",
    "n_games = simp.Query2.unique().size\n",
    "\n",
    "print(\"Number of tweets: {:d}\".format(n_tweets))\n",
    "print(\"Number of users: {:d}\".format(n_users))\n",
    "print(\"Number of games: {:d}\".format(n_games))"
   ]
  },
  {
   "cell_type": "code",
   "execution_count": 12,
   "id": "3734c122-ab8e-46cf-95e9-ad7de84c3a24",
   "metadata": {},
   "outputs": [
    {
     "data": {
      "image/png": "[encoded data removed]",
      "text/plain": [
       "<Figure size 432x288 with 1 Axes>"
      ]
     },
     "metadata": {
      "needs_background": "light"
     },
     "output_type": "display_data"
    }
   ],
   "source": [
    "df = simp.copy()\n",
    "df['Result'] = df.Result == 'Win'\n",
    "grp = df.groupby('Username')\n",
    "counts = grp.Username.count()  # number of tweets by each user\n",
    "means = grp.Result.mean()     # average result for each critic\n",
    "\n",
    "means[counts > 100].hist(bins=10, edgecolor='w', lw=1)\n",
    "plt.xlabel(\"Average Rating per critic\")\n",
    "plt.ylabel(\"Number of Critics\")\n",
    "plt.yticks([0, 2, 4, 6, 8, 10]);"
   ]
  },
  {
   "cell_type": "code",
   "execution_count": 15,
   "id": "881c01bd-1374-4ee6-a9bb-4bac6a79592d",
   "metadata": {},
   "outputs": [],
   "source": [
    "from sklearn.feature_extraction.text import CountVectorizer\n",
    "\n",
    "def make_xy(simp, vectorizer=None):\n",
    "    #Your code here    \n",
    "    if vectorizer is None:\n",
    "        vectorizer = CountVectorizer()\n",
    "    X = vectorizer.fit_transform(simp.clean_tweet2)\n",
    "    X = X.tocsc()  # some versions of sklearn return COO format\n",
    "    y = (simp.Result == 'Win').values.astype(np.int)\n",
    "    #print(vectorizer.get_feature_names())\n",
    "    return X, y\n",
    "X, y = make_xy(simp)"
   ]
  },
  {
   "cell_type": "code",
   "execution_count": 16,
   "id": "90b04a65-ce3f-4c2e-a089-e99b8107c790",
   "metadata": {},
   "outputs": [
    {
     "name": "stdout",
     "output_type": "stream",
     "text": [
      "Multinomial Naive Bayes\n",
      "Accuracy on the test set: 0.6214486486486487\n",
      "Accuracy on the training set: 0.7024432432432433\n"
     ]
    }
   ],
   "source": [
    "#your turn\n",
    "#your turn\n",
    "from sklearn.model_selection import train_test_split\n",
    "from sklearn.naive_bayes import MultinomialNB\n",
    "\n",
    "xtrain, xtest, ytrain, ytest = train_test_split(X,y)\n",
    "clf = MultinomialNB().fit(xtrain, ytrain)\n",
    "train_accuracy = clf.score(xtrain, ytrain)\n",
    "test_accuracy = clf.score(xtest, ytest)\n",
    "print('Multinomial Naive Bayes')\n",
    "print('Accuracy on the test set: {}'.format(test_accuracy))\n",
    "print('Accuracy on the training set: {}'.format(train_accuracy))"
   ]
  },
  {
   "cell_type": "code",
   "execution_count": 17,
   "id": "bc91265b-aa9b-423c-b2ca-6bc077b3ef53",
   "metadata": {},
   "outputs": [
    {
     "data": {
      "image/png": "[encoded data removed]",
      "text/plain": [
       "<Figure size 432x288 with 1 Axes>"
      ]
     },
     "metadata": {
      "needs_background": "light"
     },
     "output_type": "display_data"
    }
   ],
   "source": [
    "# Your turn.\n",
    "# For each word, count the number of documents that contains it \n",
    "count = (X>0).sum(axis=0).tolist()[0]\n",
    "count = sorted(count)\n",
    "n = np.unique(count)\n",
    "\n",
    "# Compute the frequency of words that appear in exactly k documents\n",
    "freq, cat = np.histogram(count, bins = len(n))\n",
    "cumfreq = np.cumsum(freq)\n",
    "cumfreq = np.insert(cumfreq,0,0)\n",
    "n = np.insert(n,0,0)\n",
    "\n",
    "plt.plot(n,cumfreq)\n",
    "plt.xlim(-1,100)\n",
    "plt.xlabel('Count of Documents in which a Word Appears')\n",
    "plt.ylabel('Cumulative Frequency of Words')\n",
    "plt.show()"
   ]
  },
  {
   "cell_type": "code",
   "execution_count": 18,
   "id": "50ec5c77-18b8-4cfa-b47a-564985dc2898",
   "metadata": {},
   "outputs": [],
   "source": [
    "from sklearn.model_selection import KFold\n",
    "def cv_score(clf, X, y, scorefunc):\n",
    "    result = 0.\n",
    "    nfold = 5\n",
    "    for train, test in KFold(nfold).split(X): # split data into train/test groups, 5 times\n",
    "        clf.fit(X[train], y[train]) # fit the classifier, passed is as clf.\n",
    "        result += scorefunc(clf, X[test], y[test]) # evaluate score function on held-out data\n",
    "    return result / nfold # average"
   ]
  },
  {
   "cell_type": "code",
   "execution_count": 19,
   "id": "392b726a-8f4c-40ee-9c7e-3d87960862aa",
   "metadata": {},
   "outputs": [],
   "source": [
    "def log_likelihood(clf, x, y):\n",
    "    prob = clf.predict_log_proba(x)\n",
    "    losstie = y == 0\n",
    "    win = ~losstie\n",
    "    return prob[losstie, 0].sum() + prob[win, 1].sum()"
   ]
  },
  {
   "cell_type": "code",
   "execution_count": 20,
   "id": "3aea750a-ff97-404b-8534-c1b9ed15800b",
   "metadata": {},
   "outputs": [],
   "source": [
    "from sklearn.model_selection import train_test_split\n",
    "itrain, itest = train_test_split(range(simp.shape[0]), train_size=0.7)\n",
    "mask = np.zeros(simp.shape[0], dtype=np.bool)\n",
    "mask[itest] = True"
   ]
  },
  {
   "cell_type": "code",
   "execution_count": 21,
   "id": "ec633026-b7f0-42f6-ab20-0e6d40f4334f",
   "metadata": {},
   "outputs": [],
   "source": [
    "from sklearn.naive_bayes import MultinomialNB\n",
    "\n",
    "#the grid of parameters to search over\n",
    "alphas = [0.1, 1, 5, 10, 50]\n",
    "min_dfs = [0.00001, 0.0001, 0.001, 0.01, 0.1]\n",
    "\n",
    "#Find the best value for alpha and min_df, and the best classifier\n",
    "best_alpha = None\n",
    "best_min_df = None\n",
    "maxscore=-np.inf\n",
    "for alpha in alphas: \n",
    "    for min_df in min_dfs:\n",
    "        vectorizer = CountVectorizer(min_df=min_df)       \n",
    "        Xthis, ythis = make_xy(simp, vectorizer)\n",
    "        Xtrainthis = Xthis[mask]\n",
    "        ytrainthis = ythis[mask]\n",
    "        # Cross validate the NB model and compute a log likelihoood score\n",
    "        clf = MultinomialNB(alpha=alpha)\n",
    "        score = cv_score(clf, Xtrainthis, ytrainthis, scorefunc=log_likelihood)\n",
    "        if score > maxscore:\n",
    "            maxscore = score\n",
    "            best_alpha = alpha\n",
    "            best_min_df = min_df\n",
    "    #print(alpha, best_min_df, maxscore)"
   ]
  },
  {
   "cell_type": "code",
   "execution_count": null,
   "id": "4c70b550-88e5-4a6b-a29f-bcdfd89c22c5",
   "metadata": {},
   "outputs": [],
   "source": [
    "print(\"Best alpha: {}\\nBest min_df: {}\".format(best_alpha, best_min_df))"
   ]
  },
  {
   "cell_type": "code",
   "execution_count": null,
   "id": "b2732601-7e18-4f78-9988-aff2d1fb5d2e",
   "metadata": {},
   "outputs": [],
   "source": [
    "vectorizer = CountVectorizer(min_df=best_min_df)\n",
    "X, y = make_xy(simp, vectorizer)\n",
    "xtrain=X[mask]\n",
    "ytrain=y[mask]\n",
    "xtest=X[~mask]\n",
    "ytest=y[~mask]\n",
    "\n",
    "clf = MultinomialNB(alpha=best_alpha).fit(xtrain, ytrain)\n",
    "\n",
    "#your turn. Print the accuracy on the test and training dataset\n",
    "training_accuracy = clf.score(xtrain, ytrain)\n",
    "test_accuracy = clf.score(xtest, ytest)\n",
    "\n",
    "print(\"Accuracy on training data: {:2f}\".format(training_accuracy))\n",
    "print(\"Accuracy on test data:     {:2f}\".format(test_accuracy))"
   ]
  },
  {
   "cell_type": "code",
   "execution_count": null,
   "id": "18998a6e-5e69-4b96-952c-a2ffc6618ab6",
   "metadata": {},
   "outputs": [],
   "source": [
    "from sklearn.metrics import confusion_matrix\n",
    "print(confusion_matrix(ytest, clf.predict(xtest)))\n",
    "from sklearn.metrics import plot_confusion_matrix\n",
    "plot_confusion_matrix(clf,xtest,ytest)"
   ]
  },
  {
   "cell_type": "code",
   "execution_count": null,
   "id": "af4d2327-205c-472f-a844-f441efe94c8c",
   "metadata": {},
   "outputs": [],
   "source": [
    "words = np.array(vectorizer.get_feature_names())\n",
    "\n",
    "x = np.eye(xtest.shape[1])\n",
    "probs = clf.predict_log_proba(x)[:, 0]\n",
    "ind = np.argsort(probs)\n",
    "\n",
    "good_words = words[ind[:10]]\n",
    "bad_words = words[ind[-10:]]\n",
    "\n",
    "good_prob = probs[ind[:10]]\n",
    "bad_prob = probs[ind[-10:]]\n",
    "\n",
    "print(\"Good words\\t     P(fresh | word)\")\n",
    "for w, p in zip(good_words, good_prob):\n",
    "    print(\"{:>20}\".format(w), \"{:.2f}\".format(1 - np.exp(p)))\n",
    "    \n",
    "print(\"Bad words\\t     P(fresh | word)\")\n",
    "for w, p in zip(bad_words, bad_prob):\n",
    "    print(\"{:>20}\".format(w), \"{:.2f}\".format(1 - np.exp(p)))"
   ]
  },
  {
   "cell_type": "code",
   "execution_count": null,
   "id": "739fe50a-a896-4f36-b0e4-ac488379d2b7",
   "metadata": {},
   "outputs": [],
   "source": []
  }
 ],
 "metadata": {
  "kernelspec": {
   "display_name": "py37",
   "language": "python",
   "name": "py37"
  },
  "language_info": {
   "codemirror_mode": {
    "name": "ipython",
    "version": 3
   },
   "file_extension": ".py",
   "mimetype": "text/x-python",
   "name": "python",
   "nbconvert_exporter": "python",
   "pygments_lexer": "ipython3",
   "version": "3.7.0"
  }
 },
 "nbformat": 4,
 "nbformat_minor": 5
}
