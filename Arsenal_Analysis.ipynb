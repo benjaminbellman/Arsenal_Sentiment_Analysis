{
 "cells": [
  {
   "cell_type": "markdown",
   "id": "bbd820bb-bd57-42af-ae93-13dde5fab4b1",
   "metadata": {},
   "source": [
    "# Arsenal Social Sentiment Analysis\n",
    "## Forecasting User Sentiment between games. \n",
    "by *Ben N. Bellman* \n",
    "<br> Prepared as Springboard Capstone Project\n",
    "<br> *4/13/2022*"
   ]
  },
  {
   "cell_type": "markdown",
   "id": "c3c63a86-5a57-4ab8-8644-37b4e080fa86",
   "metadata": {},
   "source": [
    "<img src=\"images/who-s-denilo-SuBb_SiEEM8-unsplash.jpg\" style=\"width:800px;height:400px\"/>"
   ]
  },
  {
   "cell_type": "markdown",
   "id": "104a1bea-cfc8-4099-a97f-75194a024454",
   "metadata": {},
   "source": [
    "### WARNING: \n",
    "*Although the usernames have been anonymized as to protect the privacy of the users in this analysis, the tweets are still in raw format and may contain inappropriate / sensitive content. Viewer discretion is advised*"
   ]
  },
  {
   "cell_type": "markdown",
   "id": "ba05f0e7-b9b6-48d6-9b2c-ccaf8ff1f06b",
   "metadata": {},
   "source": [
    "## Outline"
   ]
  },
  {
   "cell_type": "markdown",
   "id": "180bbd65-d224-4aa4-8e2e-d618ec42d938",
   "metadata": {},
   "source": [
    "## Data Mapping: "
   ]
  },
  {
   "cell_type": "markdown",
   "id": "ad9ae830-cad4-4b70-9e47-6f5ab1c9a406",
   "metadata": {},
   "source": [
    "One of the important things to know for the analysis is the schedule of the games.\n",
    "The objective in the social sentiment analysis is to predict whether or not a specific tweet is likely to come  "
   ]
  },
  {
   "cell_type": "code",
   "execution_count": 1,
   "id": "1b5a3a8d-c3e4-4748-ab6f-13cf7cf51120",
   "metadata": {},
   "outputs": [
    {
     "name": "stdout",
     "output_type": "stream",
     "text": [
      "Last updated: 2022-04-28T15:58:14.524762-07:00\n",
      "\n",
      "Python implementation: CPython\n",
      "Python version       : 3.9.12\n",
      "IPython version      : 8.0.1\n",
      "\n",
      "Compiler    : MSC v.1929 64 bit (AMD64)\n",
      "OS          : Windows\n",
      "Release     : 10\n",
      "Machine     : AMD64\n",
      "Processor   : Intel64 Family 6 Model 142 Stepping 12, GenuineIntel\n",
      "CPU cores   : 8\n",
      "Architecture: 64bit\n",
      "\n"
     ]
    }
   ],
   "source": [
    "%load_ext watermark\n",
    "%watermark "
   ]
  },
  {
   "cell_type": "code",
   "execution_count": 2,
   "id": "ba8542c1-eb51-44c0-91c2-05fbb1cd627c",
   "metadata": {},
   "outputs": [],
   "source": [
    "## We start by importing the packages we will use.\n",
    "\n",
    "import pandas as pd\n",
    "import numpy as np\n",
    "import matplotlib.pyplot as plt\n",
    "import seaborn as sns\n",
    "\n",
    "import statsmodels.api as sm\n",
    "from statsmodels.graphics.api import abline_plot \n",
    "\n",
    "from sklearn.preprocessing import StandardScaler, LabelEncoder\n",
    "from sklearn.model_selection import train_test_split, GridSearchCV, RandomizedSearchCV\n",
    "from imblearn.under_sampling import RandomUnderSampler\n",
    "\n",
    "from sklearn.linear_model import LinearRegression, LogisticRegression, SGDClassifier\n",
    "from sklearn.neighbors import KNeighborsClassifier\n",
    "from sklearn.naive_bayes import GaussianNB\n",
    "from sklearn.svm import SVC\n",
    "from sklearn.tree import DecisionTreeRegressor, DecisionTreeClassifier, plot_tree, export_graphviz\n",
    "from sklearn.ensemble import RandomForestClassifier,RandomForestRegressor, GradientBoostingClassifier, AdaBoostClassifier\n",
    "import xgboost as xgb \n",
    "\n",
    "from sklearn.metrics import precision_recall_curve, roc_curve, auc, confusion_matrix, accuracy_score, precision_score\n",
    "from sklearn.metrics import mean_squared_error as mse, r2_score, mean_absolute_error as mae, f1_score, fbeta_score \n",
    "from sklearn.metrics import plot_confusion_matrix,classification_report, balanced_accuracy_score, recall_score\n",
    "from sklearn.metrics import roc_auc_score, log_loss,matthews_corrcoef, ConfusionMatrixDisplay\n",
    "\n",
    "from io import StringIO \n",
    "from IPython.display import Image,HTML \n",
    "import pydotplus\n",
    "import graphviz\n",
    "import shap\n",
    "\n",
    "\n",
    "## Import Local Functions\n",
    "\n",
    "from functions import (preview_data,\n",
    "                       get_missing_counts,\n",
    "                       get_value_counts,\n",
    "                       get_unique_column_count,\n",
    "                       get_datetimes,\n",
    "                       drop_null_values)             \n",
    "\n",
    "import warnings\n",
    "warnings.filterwarnings('ignore')\n",
    "pd.set_option('display.max_colwidth',-1)\n",
    "%matplotlib inline"
   ]
  },
  {
   "cell_type": "code",
   "execution_count": 3,
   "id": "54ea36e0-b50b-4570-90fb-4984446be630",
   "metadata": {},
   "outputs": [],
   "source": [
    "## Load the Data\n",
    "df = pd.read_csv('All_Tweets_Arsenal.csv')"
   ]
  },
  {
   "cell_type": "markdown",
   "id": "6a74a742-57e7-4bd5-a57e-ed59020f0b87",
   "metadata": {},
   "source": [
    "## I. Data Exploration and Data Wrangling"
   ]
  },
  {
   "cell_type": "code",
   "execution_count": 4,
   "id": "2e90e6cd-a959-46e2-9880-3c4993f69228",
   "metadata": {},
   "outputs": [
    {
     "name": "stdout",
     "output_type": "stream",
     "text": [
      "First Five Rows of Data: \n",
      "\n"
     ]
    },
    {
     "data": {
      "text/html": [
       "<div>\n",
       "<style scoped>\n",
       "    .dataframe tbody tr th:only-of-type {\n",
       "        vertical-align: middle;\n",
       "    }\n",
       "\n",
       "    .dataframe tbody tr th {\n",
       "        vertical-align: top;\n",
       "    }\n",
       "\n",
       "    .dataframe thead th {\n",
       "        text-align: right;\n",
       "    }\n",
       "</style>\n",
       "<table border=\"1\" class=\"dataframe\">\n",
       "  <thead>\n",
       "    <tr style=\"text-align: right;\">\n",
       "      <th></th>\n",
       "      <th>Date</th>\n",
       "      <th>Username</th>\n",
       "      <th>Tweet</th>\n",
       "      <th>TweetLikes</th>\n",
       "      <th>TweetReplies</th>\n",
       "      <th>RetweetCount</th>\n",
       "      <th>Positive</th>\n",
       "    </tr>\n",
       "  </thead>\n",
       "  <tbody>\n",
       "    <tr>\n",
       "      <th>0</th>\n",
       "      <td>2022-04-13 13:35:44+00:00</td>\n",
       "      <td>Anonymous186164</td>\n",
       "      <td>@dustsorcerer 1. Combat Warriors\\n2. Black Magic II: Phantom's Caustum\\n3. Those Who Remain\\n4. Decaying Winter\\n5. Lore Game\\n\\nHonorable mentions: Westbound, Vesteria, Dawn of Aurora, AUT, Phantom Forces, Arsenal and PWNED: Aeternae Memori</td>\n",
       "      <td>0</td>\n",
       "      <td>0</td>\n",
       "      <td>0</td>\n",
       "      <td>False</td>\n",
       "    </tr>\n",
       "    <tr>\n",
       "      <th>1</th>\n",
       "      <td>2022-04-13 13:35:43+00:00</td>\n",
       "      <td>Anonymous90859</td>\n",
       "      <td>@El_Mozquetero So you want arsenal to be losing matches to achieve what you want for arsenal? https://t.co/EMNqBhjyu5</td>\n",
       "      <td>0</td>\n",
       "      <td>0</td>\n",
       "      <td>0</td>\n",
       "      <td>False</td>\n",
       "    </tr>\n",
       "    <tr>\n",
       "      <th>2</th>\n",
       "      <td>2022-04-13 13:35:42+00:00</td>\n",
       "      <td>Anonymous209962</td>\n",
       "      <td>Letras que dibujan sonrisas, que llenan el alma de colores y alegrÃ­a... \\n\\n\"En la poesÃ­a las letras son balas sin daÃ±o, \\nel alma, el paredÃ³n a donde van a dar las frases, \\nese amoroso arsenal que atina tambiÃ©n en el corazÃ³n\".\\nDe @jpenalver</td>\n",
       "      <td>0</td>\n",
       "      <td>0</td>\n",
       "      <td>0</td>\n",
       "      <td>False</td>\n",
       "    </tr>\n",
       "    <tr>\n",
       "      <th>3</th>\n",
       "      <td>2022-04-13 13:35:42+00:00</td>\n",
       "      <td>Anonymous334676</td>\n",
       "      <td>@arse_talk @El_Mozquetero I don't think an Arsenal fan would go about it this way, even if they did want us to change manager, either that or they're just incredibly childish.</td>\n",
       "      <td>0</td>\n",
       "      <td>0</td>\n",
       "      <td>0</td>\n",
       "      <td>False</td>\n",
       "    </tr>\n",
       "    <tr>\n",
       "      <th>4</th>\n",
       "      <td>2022-04-13 13:35:36+00:00</td>\n",
       "      <td>Anonymous272092</td>\n",
       "      <td>@bubblecheebutt Je vais pas relever le connard. En tt cas, depuis Quai de l'Arsenal et jusqu'Ã  Bir Hakeim, en passant par la voie Georges Pompidou, tu as seulement 2 feux (Ã  Concorde), puis 2 feux Ã  Bir Hakeim si tu passes par les quais en bas.\\nPas besoin de les griller.</td>\n",
       "      <td>0</td>\n",
       "      <td>0</td>\n",
       "      <td>0</td>\n",
       "      <td>False</td>\n",
       "    </tr>\n",
       "  </tbody>\n",
       "</table>\n",
       "</div>"
      ],
      "text/plain": [
       "                        Date         Username  \\\n",
       "0  2022-04-13 13:35:44+00:00  Anonymous186164   \n",
       "1  2022-04-13 13:35:43+00:00  Anonymous90859    \n",
       "2  2022-04-13 13:35:42+00:00  Anonymous209962   \n",
       "3  2022-04-13 13:35:42+00:00  Anonymous334676   \n",
       "4  2022-04-13 13:35:36+00:00  Anonymous272092   \n",
       "\n",
       "                                                                                                                                                                                                                                                                                 Tweet  \\\n",
       "0  @dustsorcerer 1. Combat Warriors\\n2. Black Magic II: Phantom's Caustum\\n3. Those Who Remain\\n4. Decaying Winter\\n5. Lore Game\\n\\nHonorable mentions: Westbound, Vesteria, Dawn of Aurora, AUT, Phantom Forces, Arsenal and PWNED: Aeternae Memori                                     \n",
       "1  @El_Mozquetero So you want arsenal to be losing matches to achieve what you want for arsenal? https://t.co/EMNqBhjyu5                                                                                                                                                                 \n",
       "2  Letras que dibujan sonrisas, que llenan el alma de colores y alegrÃ­a... \\n\\n\"En la poesÃ­a las letras son balas sin daÃ±o, \\nel alma, el paredÃ³n a donde van a dar las frases, \\nese amoroso arsenal que atina tambiÃ©n en el corazÃ³n\".\\nDe @jpenalver                             \n",
       "3  @arse_talk @El_Mozquetero I don't think an Arsenal fan would go about it this way, even if they did want us to change manager, either that or they're just incredibly childish.                                                                                                       \n",
       "4  @bubblecheebutt Je vais pas relever le connard. En tt cas, depuis Quai de l'Arsenal et jusqu'Ã  Bir Hakeim, en passant par la voie Georges Pompidou, tu as seulement 2 feux (Ã  Concorde), puis 2 feux Ã  Bir Hakeim si tu passes par les quais en bas.\\nPas besoin de les griller.   \n",
       "\n",
       "   TweetLikes  TweetReplies  RetweetCount  Positive  \n",
       "0  0           0             0             False     \n",
       "1  0           0             0             False     \n",
       "2  0           0             0             False     \n",
       "3  0           0             0             False     \n",
       "4  0           0             0             False     "
      ]
     },
     "metadata": {},
     "output_type": "display_data"
    },
    {
     "name": "stdout",
     "output_type": "stream",
     "text": [
      "\n",
      " Shape: \n",
      "\n",
      "(957611, 7)\n",
      "\n",
      " Info: \n",
      "\n",
      "<class 'pandas.core.frame.DataFrame'>\n",
      "RangeIndex: 957611 entries, 0 to 957610\n",
      "Data columns (total 7 columns):\n",
      " #   Column        Non-Null Count   Dtype \n",
      "---  ------        --------------   ----- \n",
      " 0   Date          957611 non-null  object\n",
      " 1   Username      957611 non-null  object\n",
      " 2   Tweet         957611 non-null  object\n",
      " 3   TweetLikes    957611 non-null  int64 \n",
      " 4   TweetReplies  957611 non-null  int64 \n",
      " 5   RetweetCount  957611 non-null  int64 \n",
      " 6   Positive      957611 non-null  bool  \n",
      "dtypes: bool(1), int64(3), object(3)\n",
      "memory usage: 44.7+ MB\n",
      "None\n"
     ]
    }
   ],
   "source": [
    "## Start by previewing the data:\n",
    "preview_data(df)"
   ]
  },
  {
   "cell_type": "code",
   "execution_count": 5,
   "id": "765bb1cf-7460-4db7-ab64-d0a4da5a8505",
   "metadata": {},
   "outputs": [
    {
     "name": "stdout",
     "output_type": "stream",
     "text": [
      "Missing Value Percentages by Column: \n",
      "\n",
      "Date -----> 0 -----> 0.0%\n",
      "Username -----> 0 -----> 0.0%\n",
      "Tweet -----> 0 -----> 0.0%\n",
      "TweetLikes -----> 0 -----> 0.0%\n",
      "TweetReplies -----> 0 -----> 0.0%\n",
      "RetweetCount -----> 0 -----> 0.0%\n",
      "Positive -----> 0 -----> 0.0%\n"
     ]
    }
   ],
   "source": [
    "## Get the missing values\n",
    "get_missing_counts(df)"
   ]
  },
  {
   "cell_type": "code",
   "execution_count": 6,
   "id": "8f00db08-182b-4113-a018-5e8eb94dd8e9",
   "metadata": {},
   "outputs": [],
   "source": [
    "## Drops the missing Usernames. \n",
    "drop_null_values(df,['Username'])"
   ]
  },
  {
   "cell_type": "code",
   "execution_count": 7,
   "id": "b46db4e3-5bd6-4798-a170-267bbed2ce39",
   "metadata": {},
   "outputs": [
    {
     "name": "stdout",
     "output_type": "stream",
     "text": [
      "Date Ranges: 2022-02-09 00:00:00+00:00 -- 2022-04-13 13:35:44+00:00\n"
     ]
    }
   ],
   "source": [
    "## Converts date to datetime. \n",
    "\n",
    "# Fix this --> get_datetimes(df,'Date',['Date'])\n",
    "df['Date'] = df['Date'].apply(pd.to_datetime)\n",
    "print('Date Ranges: {} -- {}'.format(df['Date'].min(), df['Date'].max()))"
   ]
  },
  {
   "cell_type": "markdown",
   "id": "164266bb-1bf6-436f-a0b3-381269d806ac",
   "metadata": {},
   "source": [
    "Ok, so the date ranges are between 03-29-22 and 4-13-22, so the 500,000 tweets about Arsenal are all in a two week period. \n",
    "<br> In that two week period, Arsenal were coming out of the international break and played two games which they both lost: \n",
    "- **Crystal Palace** -- *04-04-22*  \n",
    "- **Brighton & Holvion** -- *04-09-22* "
   ]
  },
  {
   "cell_type": "code",
   "execution_count": 8,
   "id": "1aa363bf-0d9b-444b-bc79-7625256502c8",
   "metadata": {},
   "outputs": [
    {
     "name": "stdout",
     "output_type": "stream",
     "text": [
      "Unique values in each object column: \n",
      "\n",
      "Username: 366682\n",
      "Tweet: 938269\n"
     ]
    }
   ],
   "source": [
    "## Get unique values in each column: \n",
    "get_unique_column_count(df)"
   ]
  },
  {
   "cell_type": "markdown",
   "id": "cccba0b7-98c9-41ad-949d-6d2daf571015",
   "metadata": {},
   "source": [
    "Looking at this, we have a little more than twice as many tweets as users. "
   ]
  },
  {
   "cell_type": "code",
   "execution_count": 9,
   "id": "b9aaabb7-9b51-4fe5-931a-5dde51fdef21",
   "metadata": {},
   "outputs": [
    {
     "name": "stdout",
     "output_type": "stream",
     "text": [
      "Unique values in each object column: \n",
      "\n",
      "Username\n",
      "Anonymous37312     1858\n",
      "Anonymous315818    922 \n",
      "Anonymous37137     861 \n",
      "Anonymous8076      792 \n",
      "Anonymous248467    705 \n",
      "                  ...  \n",
      "Anonymous365399    1   \n",
      "Anonymous158321    1   \n",
      "Anonymous214267    1   \n",
      "Anonymous53689     1   \n",
      "Anonymous295483    1   \n",
      "Name: Username, Length: 366682, dtype: int64{}\n",
      "\n",
      "\n",
      "Tweet\n",
      "@premierleague Arsenal                                                                                                               523\n",
      "@premierleague @Arsenal                                                                                                              306\n",
      "@eToro @Arsenal Per Mertesacker                                                                                                      185\n",
      "@CaminoTV Arsenal                                                                                                                    151\n",
      "Arsenal                                                                                                                              142\n",
      "                                                                                                                                    ... \n",
      "I need more shots of sad Arsenal fans at Selhurst https://t.co/dFSRY70fDy                                                            1  \n",
      "I was fucking with Arsenal cause Partey buss Ghana but arsenal fans try banter after Brentford loss so they can hold that loool      1  \n",
      "Been a fair old while since Iâ€™ve been able to tweet this but I can confidently say that Arsenal are absolutely fucking dreadful    1  \n",
      "@Danfar_ No, just Arsenal                                                                                                            1  \n",
      "@BayyouXII @Arsenal @m8arteta Na Westham get am â€¦                                                                                  1  \n",
      "Name: Tweet, Length: 938269, dtype: int64{}\n",
      "\n",
      "\n"
     ]
    }
   ],
   "source": [
    "## Get Values\n",
    "get_value_counts(df)"
   ]
  },
  {
   "cell_type": "code",
   "execution_count": 10,
   "id": "ce7f814f-9c8e-4234-8d14-16d0ccafc837",
   "metadata": {},
   "outputs": [
    {
     "data": {
      "text/html": [
       "<div>\n",
       "<style scoped>\n",
       "    .dataframe tbody tr th:only-of-type {\n",
       "        vertical-align: middle;\n",
       "    }\n",
       "\n",
       "    .dataframe tbody tr th {\n",
       "        vertical-align: top;\n",
       "    }\n",
       "\n",
       "    .dataframe thead th {\n",
       "        text-align: right;\n",
       "    }\n",
       "</style>\n",
       "<table border=\"1\" class=\"dataframe\">\n",
       "  <thead>\n",
       "    <tr style=\"text-align: right;\">\n",
       "      <th></th>\n",
       "      <th>TweetLikes</th>\n",
       "      <th>TweetReplies</th>\n",
       "      <th>RetweetCount</th>\n",
       "    </tr>\n",
       "  </thead>\n",
       "  <tbody>\n",
       "    <tr>\n",
       "      <th>count</th>\n",
       "      <td>957611.000000</td>\n",
       "      <td>957611.000000</td>\n",
       "      <td>957611.000000</td>\n",
       "    </tr>\n",
       "    <tr>\n",
       "      <th>mean</th>\n",
       "      <td>17.531090</td>\n",
       "      <td>0.931855</td>\n",
       "      <td>1.511419</td>\n",
       "    </tr>\n",
       "    <tr>\n",
       "      <th>std</th>\n",
       "      <td>381.401238</td>\n",
       "      <td>15.008557</td>\n",
       "      <td>42.848053</td>\n",
       "    </tr>\n",
       "    <tr>\n",
       "      <th>min</th>\n",
       "      <td>0.000000</td>\n",
       "      <td>0.000000</td>\n",
       "      <td>0.000000</td>\n",
       "    </tr>\n",
       "    <tr>\n",
       "      <th>25%</th>\n",
       "      <td>0.000000</td>\n",
       "      <td>0.000000</td>\n",
       "      <td>0.000000</td>\n",
       "    </tr>\n",
       "    <tr>\n",
       "      <th>50%</th>\n",
       "      <td>0.000000</td>\n",
       "      <td>0.000000</td>\n",
       "      <td>0.000000</td>\n",
       "    </tr>\n",
       "    <tr>\n",
       "      <th>75%</th>\n",
       "      <td>1.000000</td>\n",
       "      <td>1.000000</td>\n",
       "      <td>0.000000</td>\n",
       "    </tr>\n",
       "    <tr>\n",
       "      <th>max</th>\n",
       "      <td>81382.000000</td>\n",
       "      <td>4486.000000</td>\n",
       "      <td>15715.000000</td>\n",
       "    </tr>\n",
       "  </tbody>\n",
       "</table>\n",
       "</div>"
      ],
      "text/plain": [
       "          TweetLikes   TweetReplies   RetweetCount\n",
       "count  957611.000000  957611.000000  957611.000000\n",
       "mean   17.531090      0.931855       1.511419     \n",
       "std    381.401238     15.008557      42.848053    \n",
       "min    0.000000       0.000000       0.000000     \n",
       "25%    0.000000       0.000000       0.000000     \n",
       "50%    0.000000       0.000000       0.000000     \n",
       "75%    1.000000       1.000000       0.000000     \n",
       "max    81382.000000   4486.000000    15715.000000 "
      ]
     },
     "execution_count": 10,
     "metadata": {},
     "output_type": "execute_result"
    }
   ],
   "source": [
    "## We can look at the distribution of our tweets.\n",
    "df.describe()"
   ]
  },
  {
   "cell_type": "markdown",
   "id": "4917a36b-a911-4edb-aefd-82b53c4d3f30",
   "metadata": {},
   "source": [
    "## II. Exploratory Data Analysis"
   ]
  },
  {
   "cell_type": "markdown",
   "id": "bdb68188-9681-45eb-9b06-d75d09f04801",
   "metadata": {},
   "source": [
    "We can look at the distribution of tweets."
   ]
  },
  {
   "cell_type": "code",
   "execution_count": 11,
   "id": "8bfb4092-c4f3-49a3-a235-fc17a3ad236e",
   "metadata": {},
   "outputs": [
    {
     "data": {
      "image/png": "[encoded data removed]",
      "text/plain": [
       "<Figure size 1800x1080 with 2 Axes>"
      ]
     },
     "metadata": {
      "needs_background": "light"
     },
     "output_type": "display_data"
    },
    {
     "data": {
      "text/plain": [
       "<Figure size 1440x576 with 0 Axes>"
      ]
     },
     "metadata": {},
     "output_type": "display_data"
    }
   ],
   "source": [
    "## We create a time-series Dataframe and resample by day.\n",
    "time_df = df[['Date','Username']]\n",
    "time_df['Date'] = pd.to_datetime(time_df['Date'])\n",
    "time_df['Tweet'] = 1\n",
    "time_df.drop(columns='Username', inplace=True)\n",
    "time_df.set_index('Date', inplace = True)\n",
    "time_df = time_df.resample('d').sum()\n",
    "time_df\n",
    "\n",
    "## We plot the number of tweets during the time period.\n",
    "fig, axes = plt.subplots(2, figsize=(25,15))\n",
    "fig.suptitle('Distribution of time', fontsize =40)\n",
    "fig.subplots_adjust(hspace=1.2)\n",
    "plt.figure(figsize=(20,8))\n",
    "\n",
    "axes[0].plot(time_df, label = '# of tweets')\n",
    "axes[0].set_title('Evolution of Tweets about Arsenal for period {} - {}'.format(df['Date'].min(), df['Date'].max()), fontsize = 20, pad =20)\n",
    "axes[0].set_xlabel('Day', fontsize = 18)\n",
    "axes[0].set_ylabel('Total Tweets', fontsize = 18)\n",
    "axes[0].legend(loc='best')\n",
    "plt.show()"
   ]
  },
  {
   "cell_type": "markdown",
   "id": "c73568e0-5892-48ca-b38c-a02bf4952125",
   "metadata": {},
   "source": [
    "Let's look at a preview of the 10 most liked tweets. "
   ]
  },
  {
   "cell_type": "code",
   "execution_count": 12,
   "id": "03aa32df-abf3-4d7e-a63d-e75858d9575a",
   "metadata": {},
   "outputs": [
    {
     "data": {
      "text/html": [
       "<div>\n",
       "<style scoped>\n",
       "    .dataframe tbody tr th:only-of-type {\n",
       "        vertical-align: middle;\n",
       "    }\n",
       "\n",
       "    .dataframe tbody tr th {\n",
       "        vertical-align: top;\n",
       "    }\n",
       "\n",
       "    .dataframe thead th {\n",
       "        text-align: right;\n",
       "    }\n",
       "</style>\n",
       "<table border=\"1\" class=\"dataframe\">\n",
       "  <thead>\n",
       "    <tr style=\"text-align: right;\">\n",
       "      <th></th>\n",
       "      <th>Tweet</th>\n",
       "      <th>Date</th>\n",
       "      <th>TweetLikes</th>\n",
       "      <th>Username</th>\n",
       "    </tr>\n",
       "  </thead>\n",
       "  <tbody>\n",
       "    <tr>\n",
       "      <th>667229</th>\n",
       "      <td>Nice kick about with the boys. âš½ï¸@Arsenal ðŸ˜˜</td>\n",
       "      <td>2022-02-19 20:26:45+00:00</td>\n",
       "      <td>81382</td>\n",
       "      <td>Anonymous197295</td>\n",
       "    </tr>\n",
       "    <tr>\n",
       "      <th>534154</th>\n",
       "      <td>NEVER. GIVE. UP ðŸ‘Š https://t.co/pVZCCyrN4J</td>\n",
       "      <td>2022-02-24 21:41:15+00:00</td>\n",
       "      <td>75970</td>\n",
       "      <td>Anonymous36754</td>\n",
       "    </tr>\n",
       "    <tr>\n",
       "      <th>530283</th>\n",
       "      <td>HOW DOES THAT FEEL, GUNNERS? ðŸ˜\\n\\nðŸ”´ 2-1 ðŸŸ¡ (FT)\\n\\n#ARSWOL</td>\n",
       "      <td>2022-02-24 21:43:02+00:00</td>\n",
       "      <td>68917</td>\n",
       "      <td>Anonymous36754</td>\n",
       "    </tr>\n",
       "    <tr>\n",
       "      <th>523493</th>\n",
       "      <td>ARSENAL MAKE ME WET OMG</td>\n",
       "      <td>2022-02-24 21:47:53+00:00</td>\n",
       "      <td>65523</td>\n",
       "      <td>Anonymous195118</td>\n",
       "    </tr>\n",
       "    <tr>\n",
       "      <th>52144</th>\n",
       "      <td>Aubameyang has almost scored as many goals as Arsenal since leaving the club ðŸ˜¯ https://t.co/6eq6PsOg99</td>\n",
       "      <td>2022-04-11 11:00:01+00:00</td>\n",
       "      <td>63893</td>\n",
       "      <td>Anonymous111848</td>\n",
       "    </tr>\n",
       "    <tr>\n",
       "      <th>415517</th>\n",
       "      <td>Rape is a weapon of war. Though we donâ€™t yet know the full extent of its use in #Ukraine itâ€™s already clear it was part of ðŸ‡·ðŸ‡º arsenal. Women raped in front of their kids, girls in front of their families, as a deliberate act of subjugation. Rape is a war crime.</td>\n",
       "      <td>2022-04-03 06:13:49+00:00</td>\n",
       "      <td>55029</td>\n",
       "      <td>Anonymous225877</td>\n",
       "    </tr>\n",
       "    <tr>\n",
       "      <th>457148</th>\n",
       "      <td>âœ… Six goals\\nâœ… Three wins\\n\\n@M8Arteta has been named the @PremierLeague Manager of the Month! ðŸ¤©</td>\n",
       "      <td>2022-04-01 11:00:01+00:00</td>\n",
       "      <td>51175</td>\n",
       "      <td>Anonymous36754</td>\n",
       "    </tr>\n",
       "    <tr>\n",
       "      <th>24399</th>\n",
       "      <td>If you ever feel stupid, just remember that Arsenal sacked Emery for Arteta.</td>\n",
       "      <td>2022-04-12 20:51:51+00:00</td>\n",
       "      <td>50064</td>\n",
       "      <td>Anonymous341432</td>\n",
       "    </tr>\n",
       "    <tr>\n",
       "      <th>530760</th>\n",
       "      <td>ARSENAL WIN IT IN THE 95TH MINUTE https://t.co/8N3hW0Qegl</td>\n",
       "      <td>2022-02-24 21:42:47+00:00</td>\n",
       "      <td>45578</td>\n",
       "      <td>Anonymous58780</td>\n",
       "    </tr>\n",
       "    <tr>\n",
       "      <th>617139</th>\n",
       "      <td>ðŸ½ Chip Inn Fish Bar \\n\\nðŸŸ Home to the finest catches, on the other side of Holloway Rd.\\n\\nðŸ§¤ Isn't that right, @AaronRamsdale98?\\n\\n#ArsenalSupportingSupporters https://t.co/L23N8ckbYj</td>\n",
       "      <td>2022-02-22 10:00:00+00:00</td>\n",
       "      <td>43969</td>\n",
       "      <td>Anonymous36754</td>\n",
       "    </tr>\n",
       "  </tbody>\n",
       "</table>\n",
       "</div>"
      ],
      "text/plain": [
       "                                                                                                                                                                                                                                                                                  Tweet  \\\n",
       "667229  Nice kick about with the boys. âš½ï¸@Arsenal ðŸ˜˜                                                                                                                                                                                                                                \n",
       "534154  NEVER. GIVE. UP ðŸ‘Š https://t.co/pVZCCyrN4J                                                                                                                                                                                                                                      \n",
       "530283  HOW DOES THAT FEEL, GUNNERS? ðŸ˜\\n\\nðŸ”´ 2-1 ðŸŸ¡ (FT)\\n\\n#ARSWOL                                                                                                                                                                                                                \n",
       "523493  ARSENAL MAKE ME WET OMG                                                                                                                                                                                                                                                           \n",
       "52144   Aubameyang has almost scored as many goals as Arsenal since leaving the club ðŸ˜¯ https://t.co/6eq6PsOg99                                                                                                                                                                         \n",
       "415517  Rape is a weapon of war. Though we donâ€™t yet know the full extent of its use in #Ukraine itâ€™s already clear it was part of ðŸ‡·ðŸ‡º arsenal. Women raped in front of their kids, girls in front of their families, as a deliberate act of subjugation. Rape is a war crime.   \n",
       "457148  âœ… Six goals\\nâœ… Three wins\\n\\n@M8Arteta has been named the @PremierLeague Manager of the Month! ðŸ¤©                                                                                                                                                                           \n",
       "24399   If you ever feel stupid, just remember that Arsenal sacked Emery for Arteta.                                                                                                                                                                                                      \n",
       "530760  ARSENAL WIN IT IN THE 95TH MINUTE https://t.co/8N3hW0Qegl                                                                                                                                                                                                                         \n",
       "617139  ðŸ½ Chip Inn Fish Bar \\n\\nðŸŸ Home to the finest catches, on the other side of Holloway Rd.\\n\\nðŸ§¤ Isn't that right, @AaronRamsdale98?\\n\\n#ArsenalSupportingSupporters https://t.co/L23N8ckbYj                                                                                 \n",
       "\n",
       "                            Date  TweetLikes         Username  \n",
       "667229 2022-02-19 20:26:45+00:00  81382       Anonymous197295  \n",
       "534154 2022-02-24 21:41:15+00:00  75970       Anonymous36754   \n",
       "530283 2022-02-24 21:43:02+00:00  68917       Anonymous36754   \n",
       "523493 2022-02-24 21:47:53+00:00  65523       Anonymous195118  \n",
       "52144  2022-04-11 11:00:01+00:00  63893       Anonymous111848  \n",
       "415517 2022-04-03 06:13:49+00:00  55029       Anonymous225877  \n",
       "457148 2022-04-01 11:00:01+00:00  51175       Anonymous36754   \n",
       "24399  2022-04-12 20:51:51+00:00  50064       Anonymous341432  \n",
       "530760 2022-02-24 21:42:47+00:00  45578       Anonymous58780   \n",
       "617139 2022-02-22 10:00:00+00:00  43969       Anonymous36754   "
      ]
     },
     "execution_count": 12,
     "metadata": {},
     "output_type": "execute_result"
    }
   ],
   "source": [
    "## Let's look at the 10 most popular tweets in the dataset.\n",
    "df[['Tweet','Date','TweetLikes','Username']].sort_values('TweetLikes', ascending =False).head(10)"
   ]
  },
  {
   "cell_type": "code",
   "execution_count": 13,
   "id": "64505435-3516-42f6-ae31-c50e3b41f38c",
   "metadata": {},
   "outputs": [
    {
     "name": "stdout",
     "output_type": "stream",
     "text": [
      "Python 3.9.12\n"
     ]
    }
   ],
   "source": [
    "!python --version"
   ]
  },
  {
   "cell_type": "code",
   "execution_count": null,
   "id": "f88ececc-4004-48d5-88ec-69b598e52d92",
   "metadata": {},
   "outputs": [],
   "source": []
  },
  {
   "cell_type": "markdown",
   "id": "201bc6a3-288a-4e55-9b82-efa4f2d9a666",
   "metadata": {},
   "source": [
    "## III. Preprocessing and Modeling"
   ]
  },
  {
   "cell_type": "code",
   "execution_count": 14,
   "id": "7eb5436c-9e84-4a84-bd78-5fc9a718f8fb",
   "metadata": {},
   "outputs": [
    {
     "data": {
      "text/plain": [
       "0         @dustsorcerer 1. Combat Warriors\\n2. Black Magic II: Phantom's Caustum\\n3. Those Who Remain\\n4. Decaying Winter\\n5. Lore Game\\n\\nHonorable mentions: Westbound, Vesteria, Dawn of Aurora, AUT, Phantom Forces, Arsenal and PWNED: Aeternae Memori                                  \n",
       "1         @El_Mozquetero So you want arsenal to be losing matches to achieve what you want for arsenal? https://t.co/EMNqBhjyu5                                                                                                                                                              \n",
       "2         Letras que dibujan sonrisas, que llenan el alma de colores y alegrÃ­a... \\n\\n\"En la poesÃ­a las letras son balas sin daÃ±o, \\nel alma, el paredÃ³n a donde van a dar las frases, \\nese amoroso arsenal que atina tambiÃ©n en el corazÃ³n\".\\nDe @jpenalver                          \n",
       "3         @arse_talk @El_Mozquetero I don't think an Arsenal fan would go about it this way, even if they did want us to change manager, either that or they're just incredibly childish.                                                                                                    \n",
       "4         @bubblecheebutt Je vais pas relever le connard. En tt cas, depuis Quai de l'Arsenal et jusqu'Ã  Bir Hakeim, en passant par la voie Georges Pompidou, tu as seulement 2 feux (Ã  Concorde), puis 2 feux Ã  Bir Hakeim si tu passes par les quais en bas.\\nPas besoin de les griller.\n",
       "                                                                                                                                                 ...                                                                                                                                         \n",
       "957606    @JackCutrer @Arsenal Might have to frame this to prove you said it! Come on you Blues! @joshhart                                                                                                                                                                                   \n",
       "957607    @BlackChoppa2 @Chairman951 @WelBeast Iâ€™ll be honest g I watch every arsenal game that is televised. You struggle in the final third but if a ball dropped to anyone youâ€™d want it to be auba                                                                                   \n",
       "957608    @BashirAhmaad Sir am not understand cox I know you're arsenal fan                                                                                                                                                                                                                  \n",
       "957609    Former Feyenoord ace says Arsenal is the ideal destination for '60m' Orkun #Kokcu\\n\\n#Arsenal #AFC #Transfers\\n\\nhttps://t.co/Cs7MBag76w                                                                                                                                           \n",
       "957610    @BayyouXII @Arsenal @m8arteta Na Westham get am â€¦                                                                                                                                                                                                                                \n",
       "Name: Tweet, Length: 957611, dtype: object"
      ]
     },
     "execution_count": 14,
     "metadata": {},
     "output_type": "execute_result"
    }
   ],
   "source": [
    "df.Tweet"
   ]
  },
  {
   "cell_type": "code",
   "execution_count": null,
   "id": "0e8aea71-991c-4280-a7f5-0de2e8e09ff0",
   "metadata": {},
   "outputs": [],
   "source": []
  },
  {
   "cell_type": "markdown",
   "id": "9497d496-71ec-4971-b1fe-eaf9798b5fe1",
   "metadata": {},
   "source": [
    "## IV. Conclusions"
   ]
  },
  {
   "cell_type": "code",
   "execution_count": null,
   "id": "aebdd746-23df-4834-8593-5744179fc60b",
   "metadata": {},
   "outputs": [],
   "source": []
  },
  {
   "cell_type": "code",
   "execution_count": null,
   "id": "00a6ff1c-2958-407e-b581-27ea15e09328",
   "metadata": {},
   "outputs": [],
   "source": []
  },
  {
   "cell_type": "code",
   "execution_count": null,
   "id": "d7959f14-e484-4329-9011-14f7cc0c39b2",
   "metadata": {},
   "outputs": [],
   "source": []
  },
  {
   "cell_type": "code",
   "execution_count": null,
   "id": "9524271e-bbc2-48aa-9b0f-7c71fe179cb0",
   "metadata": {},
   "outputs": [],
   "source": []
  }
 ],
 "metadata": {
  "kernelspec": {
   "display_name": "Python 3",
   "language": "python",
   "name": "python3"
  },
  "language_info": {
   "codemirror_mode": {
    "name": "ipython",
    "version": 3
   },
   "file_extension": ".py",
   "mimetype": "text/x-python",
   "name": "python",
   "nbconvert_exporter": "python",
   "pygments_lexer": "ipython3",
   "version": "3.9.12"
  }
 },
 "nbformat": 4,
 "nbformat_minor": 5
}
