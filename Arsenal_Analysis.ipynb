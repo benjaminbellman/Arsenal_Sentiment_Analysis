{
 "cells": [
  {
   "cell_type": "markdown",
   "id": "bbd820bb-bd57-42af-ae93-13dde5fab4b1",
   "metadata": {},
   "source": [
    "# Arsenal Social Sentiment Analysis\n",
    "## Forecasting User Sentiment between games. \n",
    "by *Ben N. Bellman* \n",
    "<br> Prepared as Springboard Capstone Project\n",
    "<br> *4/13/2022*"
   ]
  },
  {
   "cell_type": "markdown",
   "id": "c3c63a86-5a57-4ab8-8644-37b4e080fa86",
   "metadata": {},
   "source": [
    "<img src=\"images/who-s-denilo-SuBb_SiEEM8-unsplash.jpg\" style=\"width:800px;height:400px\"/>"
   ]
  },
  {
   "cell_type": "markdown",
   "id": "104a1bea-cfc8-4099-a97f-75194a024454",
   "metadata": {},
   "source": [
    "### WARNING: \n",
    "*Although the usernames have been anonymized as to protect the privacy of the users in this analysis, the tweets are still in raw format and may contain inappropriate / sensitive content. Viewer discretion is advised*"
   ]
  },
  {
   "cell_type": "markdown",
   "id": "ba05f0e7-b9b6-48d6-9b2c-ccaf8ff1f06b",
   "metadata": {},
   "source": [
    "## Outline"
   ]
  },
  {
   "cell_type": "markdown",
   "id": "180bbd65-d224-4aa4-8e2e-d618ec42d938",
   "metadata": {},
   "source": [
    "## Data Mapping: "
   ]
  },
  {
   "cell_type": "markdown",
   "id": "ad9ae830-cad4-4b70-9e47-6f5ab1c9a406",
   "metadata": {},
   "source": [
    "One of the important things to know for the analysis is the schedule of the games.\n",
    "The objective in the social sentiment analysis is to predict whether or not a specific tweet is likely to come  "
   ]
  },
  {
   "cell_type": "code",
   "execution_count": 1,
   "id": "1b5a3a8d-c3e4-4748-ab6f-13cf7cf51120",
   "metadata": {},
   "outputs": [
    {
     "name": "stdout",
     "output_type": "stream",
     "text": [
      "Last updated: 2022-04-15T09:55:03.422082-07:00\n",
      "\n",
      "Python implementation: CPython\n",
      "Python version       : 3.9.12\n",
      "IPython version      : 8.0.1\n",
      "\n",
      "Compiler    : MSC v.1929 64 bit (AMD64)\n",
      "OS          : Windows\n",
      "Release     : 10\n",
      "Machine     : AMD64\n",
      "Processor   : Intel64 Family 6 Model 142 Stepping 12, GenuineIntel\n",
      "CPU cores   : 8\n",
      "Architecture: 64bit\n",
      "\n"
     ]
    }
   ],
   "source": [
    "%load_ext watermark\n",
    "%watermark "
   ]
  },
  {
   "cell_type": "code",
   "execution_count": 23,
   "id": "ba8542c1-eb51-44c0-91c2-05fbb1cd627c",
   "metadata": {},
   "outputs": [],
   "source": [
    "## We start by importing the packages we will use.\n",
    "\n",
    "import pandas as pd\n",
    "import numpy as np\n",
    "import matplotlib.pyplot as plt\n",
    "import seaborn as sns\n",
    "\n",
    "import statsmodels.api as sm\n",
    "from statsmodels.graphics.api import abline_plot \n",
    "\n",
    "from sklearn.preprocessing import StandardScaler, LabelEncoder\n",
    "from sklearn.model_selection import train_test_split, GridSearchCV, RandomizedSearchCV\n",
    "from imblearn.under_sampling import RandomUnderSampler\n",
    "\n",
    "from sklearn.linear_model import LinearRegression, LogisticRegression, SGDClassifier\n",
    "from sklearn.neighbors import KNeighborsClassifier\n",
    "from sklearn.naive_bayes import GaussianNB\n",
    "from sklearn.svm import SVC\n",
    "from sklearn.tree import DecisionTreeRegressor, DecisionTreeClassifier, plot_tree, export_graphviz\n",
    "from sklearn.ensemble import RandomForestClassifier,RandomForestRegressor, GradientBoostingClassifier, AdaBoostClassifier\n",
    "import xgboost as xgb \n",
    "\n",
    "from sklearn.metrics import precision_recall_curve, roc_curve, auc, confusion_matrix, accuracy_score, precision_score\n",
    "from sklearn.metrics import mean_squared_error as mse, r2_score, mean_absolute_error as mae, f1_score, fbeta_score \n",
    "from sklearn.metrics import plot_confusion_matrix,classification_report, balanced_accuracy_score, recall_score\n",
    "from sklearn.metrics import roc_auc_score, log_loss,matthews_corrcoef, ConfusionMatrixDisplay\n",
    "\n",
    "from io import StringIO \n",
    "from IPython.display import Image,HTML \n",
    "import pydotplus\n",
    "import graphviz\n",
    "import shap\n",
    "\n",
    "## Import Local Functions\n",
    "\n",
    "from functions import (preview_data,\n",
    "                       get_missing_counts,\n",
    "                       get_value_counts,\n",
    "                       get_unique_column_count,\n",
    "                       get_datetimes,\n",
    "                       drop_null_values)             \n",
    "\n",
    "import warnings\n",
    "warnings.filterwarnings('ignore')\n",
    "pd.set_option('display.max_colwidth',-1)\n",
    "%matplotlib inline"
   ]
  },
  {
   "cell_type": "code",
   "execution_count": 3,
   "id": "54ea36e0-b50b-4570-90fb-4984446be630",
   "metadata": {},
   "outputs": [],
   "source": [
    "## Load the Data\n",
    "df = pd.read_csv('Twitter_Anonymized_Data.csv', index_col = [0])"
   ]
  },
  {
   "cell_type": "markdown",
   "id": "6a74a742-57e7-4bd5-a57e-ed59020f0b87",
   "metadata": {},
   "source": [
    "## I. Data Exploration and Data Wrangling"
   ]
  },
  {
   "cell_type": "code",
   "execution_count": 4,
   "id": "2e90e6cd-a959-46e2-9880-3c4993f69228",
   "metadata": {},
   "outputs": [
    {
     "name": "stdout",
     "output_type": "stream",
     "text": [
      "First Five Rows of Data: \n",
      "\n"
     ]
    },
    {
     "data": {
      "text/html": [
       "<div>\n",
       "<style scoped>\n",
       "    .dataframe tbody tr th:only-of-type {\n",
       "        vertical-align: middle;\n",
       "    }\n",
       "\n",
       "    .dataframe tbody tr th {\n",
       "        vertical-align: top;\n",
       "    }\n",
       "\n",
       "    .dataframe thead th {\n",
       "        text-align: right;\n",
       "    }\n",
       "</style>\n",
       "<table border=\"1\" class=\"dataframe\">\n",
       "  <thead>\n",
       "    <tr style=\"text-align: right;\">\n",
       "      <th></th>\n",
       "      <th>Date</th>\n",
       "      <th>Username</th>\n",
       "      <th>Tweet</th>\n",
       "      <th>TweetLikes</th>\n",
       "      <th>TweetReplies</th>\n",
       "      <th>RetweetCount</th>\n",
       "    </tr>\n",
       "  </thead>\n",
       "  <tbody>\n",
       "    <tr>\n",
       "      <th>0</th>\n",
       "      <td>2022-04-13 13:35:44+00:00</td>\n",
       "      <td>Anonymous115424</td>\n",
       "      <td>@dustsorcerer 1. Combat Warriors\\n2. Black Mag...</td>\n",
       "      <td>0</td>\n",
       "      <td>0</td>\n",
       "      <td>0</td>\n",
       "    </tr>\n",
       "    <tr>\n",
       "      <th>1</th>\n",
       "      <td>2022-04-13 13:35:43+00:00</td>\n",
       "      <td>Anonymous56702</td>\n",
       "      <td>@El_Mozquetero So you want arsenal to be losin...</td>\n",
       "      <td>0</td>\n",
       "      <td>0</td>\n",
       "      <td>0</td>\n",
       "    </tr>\n",
       "    <tr>\n",
       "      <th>2</th>\n",
       "      <td>2022-04-13 13:35:42+00:00</td>\n",
       "      <td>Anonymous130322</td>\n",
       "      <td>Letras que dibujan sonrisas, que llenan el alm...</td>\n",
       "      <td>0</td>\n",
       "      <td>0</td>\n",
       "      <td>0</td>\n",
       "    </tr>\n",
       "    <tr>\n",
       "      <th>3</th>\n",
       "      <td>2022-04-13 13:35:42+00:00</td>\n",
       "      <td>Anonymous207518</td>\n",
       "      <td>@arse_talk @El_Mozquetero I don't think an Ars...</td>\n",
       "      <td>0</td>\n",
       "      <td>0</td>\n",
       "      <td>0</td>\n",
       "    </tr>\n",
       "    <tr>\n",
       "      <th>4</th>\n",
       "      <td>2022-04-13 13:35:36+00:00</td>\n",
       "      <td>Anonymous168892</td>\n",
       "      <td>@bubblecheebutt Je vais pas relever le connard...</td>\n",
       "      <td>0</td>\n",
       "      <td>0</td>\n",
       "      <td>0</td>\n",
       "    </tr>\n",
       "  </tbody>\n",
       "</table>\n",
       "</div>"
      ],
      "text/plain": [
       "                        Date         Username  \\\n",
       "0  2022-04-13 13:35:44+00:00  Anonymous115424   \n",
       "1  2022-04-13 13:35:43+00:00   Anonymous56702   \n",
       "2  2022-04-13 13:35:42+00:00  Anonymous130322   \n",
       "3  2022-04-13 13:35:42+00:00  Anonymous207518   \n",
       "4  2022-04-13 13:35:36+00:00  Anonymous168892   \n",
       "\n",
       "                                               Tweet  TweetLikes  \\\n",
       "0  @dustsorcerer 1. Combat Warriors\\n2. Black Mag...           0   \n",
       "1  @El_Mozquetero So you want arsenal to be losin...           0   \n",
       "2  Letras que dibujan sonrisas, que llenan el alm...           0   \n",
       "3  @arse_talk @El_Mozquetero I don't think an Ars...           0   \n",
       "4  @bubblecheebutt Je vais pas relever le connard...           0   \n",
       "\n",
       "   TweetReplies  RetweetCount  \n",
       "0             0             0  \n",
       "1             0             0  \n",
       "2             0             0  \n",
       "3             0             0  \n",
       "4             0             0  "
      ]
     },
     "metadata": {},
     "output_type": "display_data"
    },
    {
     "name": "stdout",
     "output_type": "stream",
     "text": [
      "\n",
      " Shape: \n",
      "\n",
      "(500000, 6)\n",
      "\n",
      " Info: \n",
      "\n",
      "<class 'pandas.core.frame.DataFrame'>\n",
      "Int64Index: 500000 entries, 0 to 499999\n",
      "Data columns (total 6 columns):\n",
      " #   Column        Non-Null Count   Dtype \n",
      "---  ------        --------------   ----- \n",
      " 0   Date          500000 non-null  object\n",
      " 1   Username      499935 non-null  object\n",
      " 2   Tweet         500000 non-null  object\n",
      " 3   TweetLikes    500000 non-null  int64 \n",
      " 4   TweetReplies  500000 non-null  int64 \n",
      " 5   RetweetCount  500000 non-null  int64 \n",
      "dtypes: int64(3), object(3)\n",
      "memory usage: 26.7+ MB\n",
      "None\n"
     ]
    }
   ],
   "source": [
    "## Start by previewing the data:\n",
    "preview_data(df)"
   ]
  },
  {
   "cell_type": "code",
   "execution_count": 5,
   "id": "765bb1cf-7460-4db7-ab64-d0a4da5a8505",
   "metadata": {},
   "outputs": [
    {
     "name": "stdout",
     "output_type": "stream",
     "text": [
      "Missing Value Percentages by Column: \n",
      "\n",
      "Date -----> 0 -----> 0.0%\n",
      "Username -----> 65 -----> 0.01%\n",
      "Tweet -----> 0 -----> 0.0%\n",
      "TweetLikes -----> 0 -----> 0.0%\n",
      "TweetReplies -----> 0 -----> 0.0%\n",
      "RetweetCount -----> 0 -----> 0.0%\n"
     ]
    }
   ],
   "source": [
    "## Get the missing values\n",
    "get_missing_counts(df)"
   ]
  },
  {
   "cell_type": "code",
   "execution_count": 6,
   "id": "8f00db08-182b-4113-a018-5e8eb94dd8e9",
   "metadata": {},
   "outputs": [],
   "source": [
    "## Drops the missing Usernames. \n",
    "drop_null_values(df,['Username'])"
   ]
  },
  {
   "cell_type": "code",
   "execution_count": 7,
   "id": "b46db4e3-5bd6-4798-a170-267bbed2ce39",
   "metadata": {},
   "outputs": [
    {
     "name": "stdout",
     "output_type": "stream",
     "text": [
      "Date Ranges: 2022-03-29 21:13:43+00:00 -- 2022-04-13 13:35:44+00:00\n"
     ]
    }
   ],
   "source": [
    "## Converts date to datetime. \n",
    "\n",
    "# Fix this --> get_datetimes(df,'Date',['Date'])\n",
    "df['Date'] = df['Date'].apply(pd.to_datetime)\n",
    "print('Date Ranges: {} -- {}'.format(df['Date'].min(), df['Date'].max()))"
   ]
  },
  {
   "cell_type": "markdown",
   "id": "164266bb-1bf6-436f-a0b3-381269d806ac",
   "metadata": {},
   "source": [
    "Ok, so the date ranges are between 03-29-22 and 4-13-22, so the 500,000 tweets about Arsenal are all in a two week period. \n",
    "<br> In that two week period, Arsenal were coming out of the international break and played two games which they both lost: \n",
    "- **Crystal Palace** -- *04-04-22*  \n",
    "- **Brighton & Holvion** -- *04-09-22* "
   ]
  },
  {
   "cell_type": "code",
   "execution_count": 8,
   "id": "1aa363bf-0d9b-444b-bc79-7625256502c8",
   "metadata": {},
   "outputs": [
    {
     "name": "stdout",
     "output_type": "stream",
     "text": [
      "Unique values in each object column: \n",
      "\n",
      "Username: 227270\n",
      "Tweet: 490268\n"
     ]
    }
   ],
   "source": [
    "## Get unique values in each column: \n",
    "get_unique_column_count(df)"
   ]
  },
  {
   "cell_type": "markdown",
   "id": "cccba0b7-98c9-41ad-949d-6d2daf571015",
   "metadata": {},
   "source": [
    "Looking at this, we have a little more than twice as many tweets as users. "
   ]
  },
  {
   "cell_type": "code",
   "execution_count": 9,
   "id": "b9aaabb7-9b51-4fe5-931a-5dde51fdef21",
   "metadata": {},
   "outputs": [
    {
     "name": "stdout",
     "output_type": "stream",
     "text": [
      "Unique values in each object column: \n",
      "\n",
      "Username\n",
      "Anonymous23494     790\n",
      "Anonymous195771    697\n",
      "Anonymous213559    615\n",
      "Anonymous69737     585\n",
      "Anonymous128924    457\n",
      "                  ... \n",
      "Anonymous35763       1\n",
      "Anonymous114860      1\n",
      "Anonymous113056      1\n",
      "Anonymous191354      1\n",
      "Anonymous156476      1\n",
      "Name: Username, Length: 227270, dtype: int64{}\n",
      "\n",
      "\n",
      "Tweet\n",
      "@CaminoTV Arsenal                                                                                                                                                                                         151\n",
      "Arsenal ðŸ˜‚ðŸ˜‚ðŸ˜‚                                                                                                                                                                                       96\n",
      "Arsenal ðŸ˜‚                                                                                                                                                                                               90\n",
      "@BRGoals Arsenal                                                                                                                                                                                           87\n",
      "Arsenal                                                                                                                                                                                                    83\n",
      "                                                                                                                                                                                                         ... \n",
      "@nicogoon3r @Nielsharild @Arsenal Jeg kan slet ikke se hvor mÃ¥lene skal komme fra i denne her kamp.                                                                                                        1\n",
      "my takeaway from this Arsenal match is that it is tough to win when you play without a left back, a functional midfield, and a striker                                                                      1\n",
      "Brighton lead at ArsenalÂ LIVE! https://t.co/9CDjU2zTlK                                                                                                                                                     1\n",
      "Arsenal vs Brighton Live\\nLive Link :: https://t.co/hENg5dImVP\\nSouthampton vs Chelsea Live\\nWatford vs Leeds United Live\\n\\nftgyh                                                                          1\n",
      "@Noahpinion What is the economic cost of maintaining our nuclear arsenal? Now, apply that the Russian Federation, broke AF, can't pay child support. People talk about MAD but i want to discuss MATH.      1\n",
      "Name: Tweet, Length: 490268, dtype: int64{}\n",
      "\n",
      "\n"
     ]
    }
   ],
   "source": [
    "## Get Values\n",
    "get_value_counts(df)"
   ]
  },
  {
   "cell_type": "code",
   "execution_count": 10,
   "id": "ce7f814f-9c8e-4234-8d14-16d0ccafc837",
   "metadata": {},
   "outputs": [
    {
     "data": {
      "text/html": [
       "<div>\n",
       "<style scoped>\n",
       "    .dataframe tbody tr th:only-of-type {\n",
       "        vertical-align: middle;\n",
       "    }\n",
       "\n",
       "    .dataframe tbody tr th {\n",
       "        vertical-align: top;\n",
       "    }\n",
       "\n",
       "    .dataframe thead th {\n",
       "        text-align: right;\n",
       "    }\n",
       "</style>\n",
       "<table border=\"1\" class=\"dataframe\">\n",
       "  <thead>\n",
       "    <tr style=\"text-align: right;\">\n",
       "      <th></th>\n",
       "      <th>TweetLikes</th>\n",
       "      <th>TweetReplies</th>\n",
       "      <th>RetweetCount</th>\n",
       "    </tr>\n",
       "  </thead>\n",
       "  <tbody>\n",
       "    <tr>\n",
       "      <th>count</th>\n",
       "      <td>499935.000000</td>\n",
       "      <td>499935.000000</td>\n",
       "      <td>499935.000000</td>\n",
       "    </tr>\n",
       "    <tr>\n",
       "      <th>mean</th>\n",
       "      <td>14.722932</td>\n",
       "      <td>0.914151</td>\n",
       "      <td>1.303475</td>\n",
       "    </tr>\n",
       "    <tr>\n",
       "      <th>std</th>\n",
       "      <td>325.407555</td>\n",
       "      <td>15.265180</td>\n",
       "      <td>39.707709</td>\n",
       "    </tr>\n",
       "    <tr>\n",
       "      <th>min</th>\n",
       "      <td>0.000000</td>\n",
       "      <td>0.000000</td>\n",
       "      <td>0.000000</td>\n",
       "    </tr>\n",
       "    <tr>\n",
       "      <th>25%</th>\n",
       "      <td>0.000000</td>\n",
       "      <td>0.000000</td>\n",
       "      <td>0.000000</td>\n",
       "    </tr>\n",
       "    <tr>\n",
       "      <th>50%</th>\n",
       "      <td>0.000000</td>\n",
       "      <td>0.000000</td>\n",
       "      <td>0.000000</td>\n",
       "    </tr>\n",
       "    <tr>\n",
       "      <th>75%</th>\n",
       "      <td>1.000000</td>\n",
       "      <td>1.000000</td>\n",
       "      <td>0.000000</td>\n",
       "    </tr>\n",
       "    <tr>\n",
       "      <th>max</th>\n",
       "      <td>63893.000000</td>\n",
       "      <td>4387.000000</td>\n",
       "      <td>15715.000000</td>\n",
       "    </tr>\n",
       "  </tbody>\n",
       "</table>\n",
       "</div>"
      ],
      "text/plain": [
       "          TweetLikes   TweetReplies   RetweetCount\n",
       "count  499935.000000  499935.000000  499935.000000\n",
       "mean       14.722932       0.914151       1.303475\n",
       "std       325.407555      15.265180      39.707709\n",
       "min         0.000000       0.000000       0.000000\n",
       "25%         0.000000       0.000000       0.000000\n",
       "50%         0.000000       0.000000       0.000000\n",
       "75%         1.000000       1.000000       0.000000\n",
       "max     63893.000000    4387.000000   15715.000000"
      ]
     },
     "execution_count": 10,
     "metadata": {},
     "output_type": "execute_result"
    }
   ],
   "source": [
    "## We can look at the distribution of our tweets.\n",
    "df.describe()"
   ]
  },
  {
   "cell_type": "markdown",
   "id": "4917a36b-a911-4edb-aefd-82b53c4d3f30",
   "metadata": {},
   "source": [
    "## II. Exploratory Data Analysis"
   ]
  },
  {
   "cell_type": "markdown",
   "id": "bdb68188-9681-45eb-9b06-d75d09f04801",
   "metadata": {},
   "source": [
    "We can look at the distribution of tweets."
   ]
  },
  {
   "cell_type": "code",
   "execution_count": 15,
   "id": "8bfb4092-c4f3-49a3-a235-fc17a3ad236e",
   "metadata": {},
   "outputs": [
    {
     "data": {
      "text/plain": [
       "<matplotlib.legend.Legend at 0x1bca20687c0>"
      ]
     },
     "execution_count": 15,
     "metadata": {},
     "output_type": "execute_result"
    },
    {
     "data": {
      "image/png": "[encoded data removed]",
      "text/plain": [
       "<Figure size 1800x1080 with 2 Axes>"
      ]
     },
     "metadata": {
      "needs_background": "light"
     },
     "output_type": "display_data"
    },
    {
     "data": {
      "text/plain": [
       "<Figure size 1440x576 with 0 Axes>"
      ]
     },
     "metadata": {},
     "output_type": "display_data"
    }
   ],
   "source": [
    "## We create a time-series Dataframe and resample by day.\n",
    "time_df = df[['Date','Username']]\n",
    "time_df['Date'] = pd.to_datetime(time_df['Date'])\n",
    "time_df['Tweet'] = 1\n",
    "time_df.drop(columns='Username', inplace=True)\n",
    "time_df.set_index('Date', inplace = True)\n",
    "time_df = time_df.resample('d').sum()\n",
    "time_df\n",
    "\n",
    "## We plot the number of tweets during the time period.\n",
    "fig, axes = plt.subplots(2, figsize=(25,15))\n",
    "fig.suptitle('Distribution of time', fontsize =40)\n",
    "fig.subplots_adjust(hspace=1.2)\n",
    "plt.figure(figsize=(20,8))\n",
    "\n",
    "axes[0].plot(time_df, label = '# of tweets')\n",
    "axes[0].set_title('Evolution of Tweets about Arsenal for period {} - {}'.format(df['Date'].min(), df['Date'].max()), fontsize = 20, pad =20)\n",
    "axes[0].set_xlabel('Day', fontsize = 18)\n",
    "axes[0].set_ylabel('Total Tweets', fontsize = 18)\n",
    "axes[0].legend(loc='best')"
   ]
  },
  {
   "cell_type": "markdown",
   "id": "c73568e0-5892-48ca-b38c-a02bf4952125",
   "metadata": {},
   "source": [
    "Let's look at a preview of the 10 most liked tweets. "
   ]
  },
  {
   "cell_type": "code",
   "execution_count": 25,
   "id": "03aa32df-abf3-4d7e-a63d-e75858d9575a",
   "metadata": {},
   "outputs": [
    {
     "data": {
      "text/html": [
       "<div>\n",
       "<style scoped>\n",
       "    .dataframe tbody tr th:only-of-type {\n",
       "        vertical-align: middle;\n",
       "    }\n",
       "\n",
       "    .dataframe tbody tr th {\n",
       "        vertical-align: top;\n",
       "    }\n",
       "\n",
       "    .dataframe thead th {\n",
       "        text-align: right;\n",
       "    }\n",
       "</style>\n",
       "<table border=\"1\" class=\"dataframe\">\n",
       "  <thead>\n",
       "    <tr style=\"text-align: right;\">\n",
       "      <th></th>\n",
       "      <th>Tweet</th>\n",
       "      <th>Date</th>\n",
       "      <th>TweetLikes</th>\n",
       "      <th>Username</th>\n",
       "    </tr>\n",
       "  </thead>\n",
       "  <tbody>\n",
       "    <tr>\n",
       "      <th>52144</th>\n",
       "      <td>Aubameyang has almost scored as many goals as Arsenal since leaving the club ðŸ˜¯ https://t.co/6eq6PsOg99</td>\n",
       "      <td>2022-04-11 11:00:01+00:00</td>\n",
       "      <td>63893</td>\n",
       "      <td>Anonymous69729</td>\n",
       "    </tr>\n",
       "    <tr>\n",
       "      <th>415517</th>\n",
       "      <td>Rape is a weapon of war. Though we donâ€™t yet know the full extent of its use in #Ukraine itâ€™s already clear it was part of ðŸ‡·ðŸ‡º arsenal. Women raped in front of their kids, girls in front of their families, as a deliberate act of subjugation. Rape is a war crime.</td>\n",
       "      <td>2022-04-03 06:13:49+00:00</td>\n",
       "      <td>55029</td>\n",
       "      <td>Anonymous140096</td>\n",
       "    </tr>\n",
       "    <tr>\n",
       "      <th>457148</th>\n",
       "      <td>âœ… Six goals\\nâœ… Three wins\\n\\n@M8Arteta has been named the @PremierLeague Manager of the Month! ðŸ¤©</td>\n",
       "      <td>2022-04-01 11:00:01+00:00</td>\n",
       "      <td>51175</td>\n",
       "      <td>Anonymous23114</td>\n",
       "    </tr>\n",
       "    <tr>\n",
       "      <th>24399</th>\n",
       "      <td>If you ever feel stupid, just remember that Arsenal sacked Emery for Arteta.</td>\n",
       "      <td>2022-04-12 20:51:51+00:00</td>\n",
       "      <td>50064</td>\n",
       "      <td>Anonymous211639</td>\n",
       "    </tr>\n",
       "    <tr>\n",
       "      <th>248765</th>\n",
       "      <td>Arsenal's former manager Unai Emery couldn't resist ðŸ’€ https://t.co/Nnwg5JsLJz</td>\n",
       "      <td>2022-04-06 09:33:32+00:00</td>\n",
       "      <td>35552</td>\n",
       "      <td>Anonymous69729</td>\n",
       "    </tr>\n",
       "    <tr>\n",
       "      <th>451829</th>\n",
       "      <td>Congratulations to Gabi and his partner Gabrielle on the birth of their beautiful daughter, Maya ðŸ‘¶\\n\\nYou'll make a great dad, @Biel_M04 ðŸ‘ https://t.co/keMvqSvsuZ</td>\n",
       "      <td>2022-04-01 13:46:55+00:00</td>\n",
       "      <td>35463</td>\n",
       "      <td>Anonymous23114</td>\n",
       "    </tr>\n",
       "    <tr>\n",
       "      <th>120127</th>\n",
       "      <td>@xGPhilosophy Weâ€™ve all been there, @Arsenal</td>\n",
       "      <td>2022-04-09 16:08:22+00:00</td>\n",
       "      <td>34402</td>\n",
       "      <td>Anonymous158793</td>\n",
       "    </tr>\n",
       "    <tr>\n",
       "      <th>49397</th>\n",
       "      <td>Darwin NÃºÃ±ez will leave Benfica in the summer, fee around â‚¬80m. His new agent will now meet with many top clubs to explore opportunities. ðŸ‡ºðŸ‡¾ #transfers\\n\\nMan United already discussed his name internally - Arsenal wanted him last January as West Ham but Darwin was not for sale. https://t.co/Eo5op4DERa</td>\n",
       "      <td>2022-04-11 13:38:03+00:00</td>\n",
       "      <td>33816</td>\n",
       "      <td>Anonymous71459</td>\n",
       "    </tr>\n",
       "    <tr>\n",
       "      <th>291710</th>\n",
       "      <td>Not so many Arsenal fans on my timeline tonight ðŸ¤ª</td>\n",
       "      <td>2022-04-04 21:56:11+00:00</td>\n",
       "      <td>32216</td>\n",
       "      <td>Anonymous83271</td>\n",
       "    </tr>\n",
       "    <tr>\n",
       "      <th>444972</th>\n",
       "      <td>â¤ï¸ For everyone celebrating this month, we wish you a safe and blessed #Ramadan https://t.co/HOsDxBCrR7</td>\n",
       "      <td>2022-04-01 21:03:09+00:00</td>\n",
       "      <td>31813</td>\n",
       "      <td>Anonymous23114</td>\n",
       "    </tr>\n",
       "  </tbody>\n",
       "</table>\n",
       "</div>"
      ],
      "text/plain": [
       "                                                                                                                                                                                                                                                                                                                           Tweet  \\\n",
       "52144   Aubameyang has almost scored as many goals as Arsenal since leaving the club ðŸ˜¯ https://t.co/6eq6PsOg99                                                                                                                                                                                                                  \n",
       "415517  Rape is a weapon of war. Though we donâ€™t yet know the full extent of its use in #Ukraine itâ€™s already clear it was part of ðŸ‡·ðŸ‡º arsenal. Women raped in front of their kids, girls in front of their families, as a deliberate act of subjugation. Rape is a war crime.                                            \n",
       "457148  âœ… Six goals\\nâœ… Three wins\\n\\n@M8Arteta has been named the @PremierLeague Manager of the Month! ðŸ¤©                                                                                                                                                                                                                    \n",
       "24399   If you ever feel stupid, just remember that Arsenal sacked Emery for Arteta.                                                                                                                                                                                                                                               \n",
       "248765  Arsenal's former manager Unai Emery couldn't resist ðŸ’€ https://t.co/Nnwg5JsLJz                                                                                                                                                                                                                                           \n",
       "451829  Congratulations to Gabi and his partner Gabrielle on the birth of their beautiful daughter, Maya ðŸ‘¶\\n\\nYou'll make a great dad, @Biel_M04 ðŸ‘ https://t.co/keMvqSvsuZ                                                                                                                                                   \n",
       "120127  @xGPhilosophy Weâ€™ve all been there, @Arsenal                                                                                                                                                                                                                                                                             \n",
       "49397   Darwin NÃºÃ±ez will leave Benfica in the summer, fee around â‚¬80m. His new agent will now meet with many top clubs to explore opportunities. ðŸ‡ºðŸ‡¾ #transfers\\n\\nMan United already discussed his name internally - Arsenal wanted him last January as West Ham but Darwin was not for sale. https://t.co/Eo5op4DERa   \n",
       "291710  Not so many Arsenal fans on my timeline tonight ðŸ¤ª                                                                                                                                                                                                                                                                       \n",
       "444972  â¤ï¸ For everyone celebrating this month, we wish you a safe and blessed #Ramadan https://t.co/HOsDxBCrR7                                                                                                                                                                                                                \n",
       "\n",
       "                            Date  TweetLikes         Username  \n",
       "52144  2022-04-11 11:00:01+00:00  63893       Anonymous69729   \n",
       "415517 2022-04-03 06:13:49+00:00  55029       Anonymous140096  \n",
       "457148 2022-04-01 11:00:01+00:00  51175       Anonymous23114   \n",
       "24399  2022-04-12 20:51:51+00:00  50064       Anonymous211639  \n",
       "248765 2022-04-06 09:33:32+00:00  35552       Anonymous69729   \n",
       "451829 2022-04-01 13:46:55+00:00  35463       Anonymous23114   \n",
       "120127 2022-04-09 16:08:22+00:00  34402       Anonymous158793  \n",
       "49397  2022-04-11 13:38:03+00:00  33816       Anonymous71459   \n",
       "291710 2022-04-04 21:56:11+00:00  32216       Anonymous83271   \n",
       "444972 2022-04-01 21:03:09+00:00  31813       Anonymous23114   "
      ]
     },
     "execution_count": 25,
     "metadata": {},
     "output_type": "execute_result"
    }
   ],
   "source": [
    "## Let's look at the 10 most popular tweets in the dataset.\n",
    "df[['Tweet','Date','TweetLikes','Username']].sort_values('TweetLikes', ascending =False).head(10)"
   ]
  },
  {
   "cell_type": "code",
   "execution_count": null,
   "id": "c760c7cd-2a04-4c80-b102-7127f126ec40",
   "metadata": {},
   "outputs": [],
   "source": []
  },
  {
   "cell_type": "markdown",
   "id": "201bc6a3-288a-4e55-9b82-efa4f2d9a666",
   "metadata": {},
   "source": [
    "## III. Preprocessing and Modeling"
   ]
  },
  {
   "cell_type": "code",
   "execution_count": null,
   "id": "7eb5436c-9e84-4a84-bd78-5fc9a718f8fb",
   "metadata": {},
   "outputs": [],
   "source": []
  },
  {
   "cell_type": "code",
   "execution_count": null,
   "id": "03ac897b-f2ed-4922-8614-4d62b1b92aae",
   "metadata": {},
   "outputs": [],
   "source": []
  },
  {
   "cell_type": "code",
   "execution_count": null,
   "id": "0e8aea71-991c-4280-a7f5-0de2e8e09ff0",
   "metadata": {},
   "outputs": [],
   "source": []
  },
  {
   "cell_type": "markdown",
   "id": "9497d496-71ec-4971-b1fe-eaf9798b5fe1",
   "metadata": {},
   "source": [
    "## IV. Conclusions"
   ]
  },
  {
   "cell_type": "code",
   "execution_count": null,
   "id": "aebdd746-23df-4834-8593-5744179fc60b",
   "metadata": {},
   "outputs": [],
   "source": []
  },
  {
   "cell_type": "code",
   "execution_count": null,
   "id": "00a6ff1c-2958-407e-b581-27ea15e09328",
   "metadata": {},
   "outputs": [],
   "source": []
  },
  {
   "cell_type": "code",
   "execution_count": null,
   "id": "d7959f14-e484-4329-9011-14f7cc0c39b2",
   "metadata": {},
   "outputs": [],
   "source": []
  },
  {
   "cell_type": "code",
   "execution_count": null,
   "id": "9524271e-bbc2-48aa-9b0f-7c71fe179cb0",
   "metadata": {},
   "outputs": [],
   "source": []
  }
 ],
 "metadata": {
  "kernelspec": {
   "display_name": "Python 3",
   "language": "python",
   "name": "python3"
  },
  "language_info": {
   "codemirror_mode": {
    "name": "ipython",
    "version": 3
   },
   "file_extension": ".py",
   "mimetype": "text/x-python",
   "name": "python",
   "nbconvert_exporter": "python",
   "pygments_lexer": "ipython3",
   "version": "3.9.12"
  }
 },
 "nbformat": 4,
 "nbformat_minor": 5
}
